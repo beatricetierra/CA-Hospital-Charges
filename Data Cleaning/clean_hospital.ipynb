{
 "cells": [
  {
   "cell_type": "code",
   "execution_count": 0,
   "metadata": {
    "application/vnd.databricks.v1+cell": {
     "inputWidgets": {},
     "nuid": "e47c465d-c948-45ef-a098-1bc713ab4c05",
     "showTitle": false,
     "title": ""
    }
   },
   "outputs": [
    {
     "data": {
      "text/html": [
       "<style scoped>\n",
       "  .ansiout {\n",
       "    display: block;\n",
       "    unicode-bidi: embed;\n",
       "    white-space: pre-wrap;\n",
       "    word-wrap: break-word;\n",
       "    word-break: break-all;\n",
       "    font-family: \"Source Code Pro\", \"Menlo\", monospace;;\n",
       "    font-size: 13px;\n",
       "    color: #555;\n",
       "    margin-left: 4px;\n",
       "    line-height: 19px;\n",
       "  }\n",
       "</style>\n",
       "<div class=\"ansiout\">Python interpreter will be restarted.\n",
       "Requirement already satisfied: azure-storage-blob in /local_disk0/.ephemeral_nfs/envs/pythonEnv-1682ce54-ed7f-41d8-acf2-58b1df28c332/lib/python3.8/site-packages (12.8.1)\n",
       "Requirement already satisfied: cryptography&gt;=2.1.4 in /databricks/python3/lib/python3.8/site-packages (from azure-storage-blob) (3.1.1)\n",
       "Requirement already satisfied: msrest&gt;=0.6.18 in /local_disk0/.ephemeral_nfs/envs/pythonEnv-1682ce54-ed7f-41d8-acf2-58b1df28c332/lib/python3.8/site-packages (from azure-storage-blob) (0.6.21)\n",
       "Requirement already satisfied: azure-core&lt;2.0.0,&gt;=1.10.0 in /local_disk0/.ephemeral_nfs/envs/pythonEnv-1682ce54-ed7f-41d8-acf2-58b1df28c332/lib/python3.8/site-packages (from azure-storage-blob) (1.17.0)\n",
       "Requirement already satisfied: six&gt;=1.4.1 in /databricks/python3/lib/python3.8/site-packages (from cryptography&gt;=2.1.4-&gt;azure-storage-blob) (1.15.0)\n",
       "Requirement already satisfied: cffi!=1.11.3,&gt;=1.8 in /databricks/python3/lib/python3.8/site-packages (from cryptography&gt;=2.1.4-&gt;azure-storage-blob) (1.14.3)\n",
       "Requirement already satisfied: isodate&gt;=0.6.0 in /local_disk0/.ephemeral_nfs/envs/pythonEnv-1682ce54-ed7f-41d8-acf2-58b1df28c332/lib/python3.8/site-packages (from msrest&gt;=0.6.18-&gt;azure-storage-blob) (0.6.0)\n",
       "Requirement already satisfied: requests~=2.16 in /databricks/python3/lib/python3.8/site-packages (from msrest&gt;=0.6.18-&gt;azure-storage-blob) (2.24.0)\n",
       "Requirement already satisfied: requests-oauthlib&gt;=0.5.0 in /local_disk0/.ephemeral_nfs/envs/pythonEnv-1682ce54-ed7f-41d8-acf2-58b1df28c332/lib/python3.8/site-packages (from msrest&gt;=0.6.18-&gt;azure-storage-blob) (1.3.0)\n",
       "Requirement already satisfied: certifi&gt;=2017.4.17 in /databricks/python3/lib/python3.8/site-packages (from msrest&gt;=0.6.18-&gt;azure-storage-blob) (2021.5.30)\n",
       "Requirement already satisfied: pycparser in /databricks/python3/lib/python3.8/site-packages (from cffi!=1.11.3,&gt;=1.8-&gt;cryptography&gt;=2.1.4-&gt;azure-storage-blob) (2.20)\n",
       "Requirement already satisfied: idna&lt;3,&gt;=2.5 in /databricks/python3/lib/python3.8/site-packages (from requests~=2.16-&gt;msrest&gt;=0.6.18-&gt;azure-storage-blob) (2.10)\n",
       "Requirement already satisfied: chardet&lt;4,&gt;=3.0.2 in /databricks/python3/lib/python3.8/site-packages (from requests~=2.16-&gt;msrest&gt;=0.6.18-&gt;azure-storage-blob) (3.0.4)\n",
       "Requirement already satisfied: urllib3!=1.25.0,!=1.25.1,&lt;1.26,&gt;=1.21.1 in /databricks/python3/lib/python3.8/site-packages (from requests~=2.16-&gt;msrest&gt;=0.6.18-&gt;azure-storage-blob) (1.25.11)\n",
       "Requirement already satisfied: oauthlib&gt;=3.0.0 in /local_disk0/.ephemeral_nfs/envs/pythonEnv-1682ce54-ed7f-41d8-acf2-58b1df28c332/lib/python3.8/site-packages (from requests-oauthlib&gt;=0.5.0-&gt;msrest&gt;=0.6.18-&gt;azure-storage-blob) (3.1.1)\n",
       "WARNING: You are using pip version 20.2.4; however, version 21.2.4 is available.\n",
       "You should consider upgrading via the &#39;/local_disk0/.ephemeral_nfs/envs/pythonEnv-1682ce54-ed7f-41d8-acf2-58b1df28c332/bin/python -m pip install --upgrade pip&#39; command.\n",
       "Python interpreter will be restarted.\n",
       "</div>"
      ]
     },
     "metadata": {
      "application/vnd.databricks.v1+output": {
       "addedWidgets": {},
       "arguments": {},
       "data": "<div class=\"ansiout\">Python interpreter will be restarted.\nRequirement already satisfied: azure-storage-blob in /local_disk0/.ephemeral_nfs/envs/pythonEnv-1682ce54-ed7f-41d8-acf2-58b1df28c332/lib/python3.8/site-packages (12.8.1)\nRequirement already satisfied: cryptography&gt;=2.1.4 in /databricks/python3/lib/python3.8/site-packages (from azure-storage-blob) (3.1.1)\nRequirement already satisfied: msrest&gt;=0.6.18 in /local_disk0/.ephemeral_nfs/envs/pythonEnv-1682ce54-ed7f-41d8-acf2-58b1df28c332/lib/python3.8/site-packages (from azure-storage-blob) (0.6.21)\nRequirement already satisfied: azure-core&lt;2.0.0,&gt;=1.10.0 in /local_disk0/.ephemeral_nfs/envs/pythonEnv-1682ce54-ed7f-41d8-acf2-58b1df28c332/lib/python3.8/site-packages (from azure-storage-blob) (1.17.0)\nRequirement already satisfied: six&gt;=1.4.1 in /databricks/python3/lib/python3.8/site-packages (from cryptography&gt;=2.1.4-&gt;azure-storage-blob) (1.15.0)\nRequirement already satisfied: cffi!=1.11.3,&gt;=1.8 in /databricks/python3/lib/python3.8/site-packages (from cryptography&gt;=2.1.4-&gt;azure-storage-blob) (1.14.3)\nRequirement already satisfied: isodate&gt;=0.6.0 in /local_disk0/.ephemeral_nfs/envs/pythonEnv-1682ce54-ed7f-41d8-acf2-58b1df28c332/lib/python3.8/site-packages (from msrest&gt;=0.6.18-&gt;azure-storage-blob) (0.6.0)\nRequirement already satisfied: requests~=2.16 in /databricks/python3/lib/python3.8/site-packages (from msrest&gt;=0.6.18-&gt;azure-storage-blob) (2.24.0)\nRequirement already satisfied: requests-oauthlib&gt;=0.5.0 in /local_disk0/.ephemeral_nfs/envs/pythonEnv-1682ce54-ed7f-41d8-acf2-58b1df28c332/lib/python3.8/site-packages (from msrest&gt;=0.6.18-&gt;azure-storage-blob) (1.3.0)\nRequirement already satisfied: certifi&gt;=2017.4.17 in /databricks/python3/lib/python3.8/site-packages (from msrest&gt;=0.6.18-&gt;azure-storage-blob) (2021.5.30)\nRequirement already satisfied: pycparser in /databricks/python3/lib/python3.8/site-packages (from cffi!=1.11.3,&gt;=1.8-&gt;cryptography&gt;=2.1.4-&gt;azure-storage-blob) (2.20)\nRequirement already satisfied: idna&lt;3,&gt;=2.5 in /databricks/python3/lib/python3.8/site-packages (from requests~=2.16-&gt;msrest&gt;=0.6.18-&gt;azure-storage-blob) (2.10)\nRequirement already satisfied: chardet&lt;4,&gt;=3.0.2 in /databricks/python3/lib/python3.8/site-packages (from requests~=2.16-&gt;msrest&gt;=0.6.18-&gt;azure-storage-blob) (3.0.4)\nRequirement already satisfied: urllib3!=1.25.0,!=1.25.1,&lt;1.26,&gt;=1.21.1 in /databricks/python3/lib/python3.8/site-packages (from requests~=2.16-&gt;msrest&gt;=0.6.18-&gt;azure-storage-blob) (1.25.11)\nRequirement already satisfied: oauthlib&gt;=3.0.0 in /local_disk0/.ephemeral_nfs/envs/pythonEnv-1682ce54-ed7f-41d8-acf2-58b1df28c332/lib/python3.8/site-packages (from requests-oauthlib&gt;=0.5.0-&gt;msrest&gt;=0.6.18-&gt;azure-storage-blob) (3.1.1)\nWARNING: You are using pip version 20.2.4; however, version 21.2.4 is available.\nYou should consider upgrading via the &#39;/local_disk0/.ephemeral_nfs/envs/pythonEnv-1682ce54-ed7f-41d8-acf2-58b1df28c332/bin/python -m pip install --upgrade pip&#39; command.\nPython interpreter will be restarted.\n</div>",
       "datasetInfos": [],
       "metadata": {},
       "removedWidgets": [],
       "type": "html"
      }
     },
     "output_type": "display_data"
    }
   ],
   "source": [
    "pip install azure-storage-blob"
   ]
  },
  {
   "cell_type": "code",
   "execution_count": 0,
   "metadata": {
    "application/vnd.databricks.v1+cell": {
     "inputWidgets": {},
     "nuid": "182cca1b-322d-4037-bca3-01676ce22e4c",
     "showTitle": false,
     "title": ""
    }
   },
   "outputs": [
    {
     "data": {
      "text/html": [
       "<style scoped>\n",
       "  .ansiout {\n",
       "    display: block;\n",
       "    unicode-bidi: embed;\n",
       "    white-space: pre-wrap;\n",
       "    word-wrap: break-word;\n",
       "    word-break: break-all;\n",
       "    font-family: \"Source Code Pro\", \"Menlo\", monospace;;\n",
       "    font-size: 13px;\n",
       "    color: #555;\n",
       "    margin-left: 4px;\n",
       "    line-height: 19px;\n",
       "  }\n",
       "</style>\n",
       "<div class=\"ansiout\"></div>"
      ]
     },
     "metadata": {
      "application/vnd.databricks.v1+output": {
       "addedWidgets": {},
       "arguments": {},
       "data": "<div class=\"ansiout\"></div>",
       "datasetInfos": [],
       "metadata": {},
       "removedWidgets": [],
       "type": "html"
      }
     },
     "output_type": "display_data"
    }
   ],
   "source": [
    "from pyspark.sql import SparkSession\n",
    "from azure.storage.blob import BlobServiceClient\n",
    "from pyspark.sql.types import StructField, StructType, StringType, FloatType, IntegerType, ShortType\n",
    "import pandas as pd\n",
    "import os"
   ]
  },
  {
   "cell_type": "code",
   "execution_count": 0,
   "metadata": {
    "application/vnd.databricks.v1+cell": {
     "inputWidgets": {},
     "nuid": "61709dc0-0be2-4305-ab03-dade8117be17",
     "showTitle": false,
     "title": ""
    }
   },
   "outputs": [
    {
     "data": {
      "text/html": [
       "<style scoped>\n",
       "  .ansiout {\n",
       "    display: block;\n",
       "    unicode-bidi: embed;\n",
       "    white-space: pre-wrap;\n",
       "    word-wrap: break-word;\n",
       "    word-break: break-all;\n",
       "    font-family: \"Source Code Pro\", \"Menlo\", monospace;;\n",
       "    font-size: 13px;\n",
       "    color: #555;\n",
       "    margin-left: 4px;\n",
       "    line-height: 19px;\n",
       "  }\n",
       "</style>\n",
       "<div class=\"ansiout\"></div>"
      ]
     },
     "metadata": {
      "application/vnd.databricks.v1+output": {
       "addedWidgets": {},
       "arguments": {},
       "data": "<div class=\"ansiout\"></div>",
       "datasetInfos": [],
       "metadata": {},
       "removedWidgets": [],
       "type": "html"
      }
     },
     "output_type": "display_data"
    }
   ],
   "source": [
    "# start spark session\n",
    "spark = SparkSession.builder.appName(\"app\").getOrCreate()\n",
    "spark.conf.set(\"fs.azure.account.key.cahospitalstorage.blob.core.windows.net\", \\\n",
    "    \"w3EYeDH//L+J0uscsn3BYDatbFCcB7CUXK4MfOSNmwc16v3WAQ7EPcw2IpchUrelLVuowjfugmv99e0Os8J5Sw==\")"
   ]
  },
  {
   "cell_type": "code",
   "execution_count": 0,
   "metadata": {
    "application/vnd.databricks.v1+cell": {
     "inputWidgets": {},
     "nuid": "eec8a2fb-58fd-4383-ac11-652f4878f0c3",
     "showTitle": false,
     "title": ""
    }
   },
   "outputs": [
    {
     "data": {
      "text/html": [
       "<style scoped>\n",
       "  .ansiout {\n",
       "    display: block;\n",
       "    unicode-bidi: embed;\n",
       "    white-space: pre-wrap;\n",
       "    word-wrap: break-word;\n",
       "    word-break: break-all;\n",
       "    font-family: \"Source Code Pro\", \"Menlo\", monospace;;\n",
       "    font-size: 13px;\n",
       "    color: #555;\n",
       "    margin-left: 4px;\n",
       "    line-height: 19px;\n",
       "  }\n",
       "</style>\n",
       "<div class=\"ansiout\"></div>"
      ]
     },
     "metadata": {
      "application/vnd.databricks.v1+output": {
       "addedWidgets": {},
       "arguments": {},
       "data": "<div class=\"ansiout\"></div>",
       "datasetInfos": [],
       "metadata": {},
       "removedWidgets": [],
       "type": "html"
      }
     },
     "output_type": "display_data"
    }
   ],
   "source": [
    "# connect to blob storage and download csv file\n",
    "container = \"hospitals\"\n",
    "blob_location = \"raw_data/facilityprofile_2021-08-10.csv\"\n",
    "\n",
    "blob_service_client = BlobServiceClient.from_connection_string(\"DefaultEndpointsProtocol=https;AccountName=cahospitalstorage;AccountKey=w3EYeDH//L+J0uscsn3BYDatbFCcB7CUXK4MfOSNmwc16v3WAQ7EPcw2IpchUrelLVuowjfugmv99e0Os8J5Sw==;EndpointSuffix=core.windows.net\")\n",
    "container_client = blob_service_client.get_container_client(container)\n",
    "blob_data = container_client.get_blob_client(blob_location)\n",
    "with open(\"temp.txt\", \"wb\") as temp:\n",
    "  data = blob_data.download_blob()\n",
    "  data.readinto(temp)"
   ]
  },
  {
   "cell_type": "code",
   "execution_count": 1,
   "metadata": {
    "application/vnd.databricks.v1+cell": {
     "inputWidgets": {},
     "nuid": "da4b0d7f-ebb5-4998-9cf9-d7698764d812",
     "showTitle": false,
     "title": ""
    }
   },
   "outputs": [
    {
     "ename": "NameError",
     "evalue": "name 'StructType' is not defined",
     "output_type": "error",
     "traceback": [
      "\u001b[1;31m---------------------------------------------------------------------------\u001b[0m",
      "\u001b[1;31mNameError\u001b[0m                                 Traceback (most recent call last)",
      "\u001b[1;32m<ipython-input-1-9a800633af85>\u001b[0m in \u001b[0;36m<module>\u001b[1;34m\u001b[0m\n\u001b[0;32m      1\u001b[0m \u001b[1;31m# read csv file\u001b[0m\u001b[1;33m\u001b[0m\u001b[1;33m\u001b[0m\u001b[1;33m\u001b[0m\u001b[0m\n\u001b[1;32m----> 2\u001b[1;33m schema = StructType([\n\u001b[0m\u001b[0;32m      3\u001b[0m     \u001b[0mStructField\u001b[0m\u001b[1;33m(\u001b[0m\u001b[1;34m'facility_desc'\u001b[0m\u001b[1;33m,\u001b[0m \u001b[0mStringType\u001b[0m\u001b[1;33m(\u001b[0m\u001b[1;33m)\u001b[0m\u001b[1;33m,\u001b[0m \u001b[1;32mTrue\u001b[0m\u001b[1;33m)\u001b[0m\u001b[1;33m,\u001b[0m\u001b[1;33m\u001b[0m\u001b[1;33m\u001b[0m\u001b[0m\n\u001b[0;32m      4\u001b[0m     \u001b[0mStructField\u001b[0m\u001b[1;33m(\u001b[0m\u001b[1;34m'site_address1'\u001b[0m\u001b[1;33m,\u001b[0m \u001b[0mStringType\u001b[0m\u001b[1;33m(\u001b[0m\u001b[1;33m)\u001b[0m\u001b[1;33m,\u001b[0m \u001b[1;32mTrue\u001b[0m\u001b[1;33m)\u001b[0m\u001b[1;33m,\u001b[0m\u001b[1;33m\u001b[0m\u001b[1;33m\u001b[0m\u001b[0m\n\u001b[0;32m      5\u001b[0m     \u001b[0mStructField\u001b[0m\u001b[1;33m(\u001b[0m\u001b[1;34m'site_address2'\u001b[0m\u001b[1;33m,\u001b[0m \u001b[0mStringType\u001b[0m\u001b[1;33m(\u001b[0m\u001b[1;33m)\u001b[0m\u001b[1;33m,\u001b[0m \u001b[1;32mTrue\u001b[0m\u001b[1;33m)\u001b[0m\u001b[1;33m,\u001b[0m\u001b[1;33m\u001b[0m\u001b[1;33m\u001b[0m\u001b[0m\n",
      "\u001b[1;31mNameError\u001b[0m: name 'StructType' is not defined"
     ]
    }
   ],
   "source": [
    "# read csv file\n",
    "schema = StructType([\n",
    "    StructField('facility_desc', StringType(), True),\n",
    "    StructField('site_address1', StringType(), True),\n",
    "    StructField('site_address2', StringType(), True),\n",
    "    StructField('site_city', StringType(), True),\n",
    "    StructField('site_zip', StringType(), True),\n",
    "    StructField('site_x_coordinate', FloatType(), True),\n",
    "    StructField('site_y_coordinate', FloatType(), True),\n",
    "    StructField('oshpd_id', StringType(), True),\n",
    "    StructField('license_type_desc', StringType(), True),\n",
    "    StructField('license_category_desc', StringType(), True),\n",
    "    StructField('license_number', StringType(), True)\n",
    "])\n",
    "\n",
    "pdf = pd.read_csv(\"temp.txt\")\n",
    "pdf = pdf.iloc[:,:11]\n",
    "df = spark.createDataFrame(pdf, schema=schema)"
   ]
  },
  {
   "cell_type": "code",
   "execution_count": 0,
   "metadata": {
    "application/vnd.databricks.v1+cell": {
     "inputWidgets": {},
     "nuid": "3fef41de-c622-4ae8-bf9a-f9cc0f0b0895",
     "showTitle": false,
     "title": ""
    }
   },
   "outputs": [
    {
     "data": {
      "text/html": [
       "<style scoped>\n",
       "  .ansiout {\n",
       "    display: block;\n",
       "    unicode-bidi: embed;\n",
       "    white-space: pre-wrap;\n",
       "    word-wrap: break-word;\n",
       "    word-break: break-all;\n",
       "    font-family: \"Source Code Pro\", \"Menlo\", monospace;;\n",
       "    font-size: 13px;\n",
       "    color: #555;\n",
       "    margin-left: 4px;\n",
       "    line-height: 19px;\n",
       "  }\n",
       "</style>\n",
       "<div class=\"ansiout\"></div>"
      ]
     },
     "metadata": {
      "application/vnd.databricks.v1+output": {
       "addedWidgets": {},
       "arguments": {},
       "data": "<div class=\"ansiout\"></div>",
       "datasetInfos": [],
       "metadata": {},
       "removedWidgets": [],
       "type": "html"
      }
     },
     "output_type": "display_data"
    }
   ],
   "source": [
    "# Export df_final to blob storage\n",
    "output = \"clean_data_hospitals\"\n",
    "df.write.option(\"header\", \"true\").mode(\"overwrite\").parquet(output)\n",
    "for file in os.listdir(\"/dbfs/\" + output):\n",
    "  try:\n",
    "    with open(\"/dbfs/%s/%s\" % (output, file), \"rb\") as data:\n",
    "        container_client.upload_blob(name=\"%s/%s\" % (output, file), data=data, overwrite=True)\n",
    "  except Exception as e:\n",
    "    print(e)"
   ]
  },
  {
   "cell_type": "code",
   "execution_count": 0,
   "metadata": {
    "application/vnd.databricks.v1+cell": {
     "inputWidgets": {},
     "nuid": "f6414416-e645-49f4-b581-5583f4a981bd",
     "showTitle": false,
     "title": ""
    }
   },
   "outputs": [
    {
     "data": {
      "text/plain": [
       "hospitals/clean_data_hospitals"
      ]
     },
     "metadata": {
      "application/vnd.databricks.v1+output": {
       "arguments": {},
       "data": "hospitals/clean_data_hospitals",
       "metadata": {},
       "type": "exit"
      }
     },
     "output_type": "display_data"
    }
   ],
   "source": [
    "dbutils.notebook.exit(\"%s/%s\" % (container, output))"
   ]
  }
 ],
 "metadata": {
  "application/vnd.databricks.v1+notebook": {
   "dashboards": [],
   "language": "python",
   "notebookMetadata": {
    "pythonIndentUnit": 2
   },
   "notebookName": "clean_hospital",
   "notebookOrigID": 3076986898610474,
   "widgets": {}
  },
  "kernelspec": {
   "display_name": "Python 3",
   "language": "python",
   "name": "python3"
  },
  "language_info": {
   "codemirror_mode": {
    "name": "ipython",
    "version": 3
   },
   "file_extension": ".py",
   "mimetype": "text/x-python",
   "name": "python",
   "nbconvert_exporter": "python",
   "pygments_lexer": "ipython3",
   "version": "3.8.5"
  }
 },
 "nbformat": 4,
 "nbformat_minor": 1
}
