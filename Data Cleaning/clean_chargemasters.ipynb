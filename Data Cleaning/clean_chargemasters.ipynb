{
 "cells": [
  {
   "cell_type": "code",
   "execution_count": 0,
   "metadata": {
    "application/vnd.databricks.v1+cell": {
     "inputWidgets": {},
     "nuid": "3985156e-8a69-4234-9dae-60fdb72aff56",
     "showTitle": false,
     "title": ""
    }
   },
   "outputs": [
    {
     "data": {
      "text/html": [
       "<style scoped>\n",
       "  .ansiout {\n",
       "    display: block;\n",
       "    unicode-bidi: embed;\n",
       "    white-space: pre-wrap;\n",
       "    word-wrap: break-word;\n",
       "    word-break: break-all;\n",
       "    font-family: \"Source Code Pro\", \"Menlo\", monospace;;\n",
       "    font-size: 13px;\n",
       "    color: #555;\n",
       "    margin-left: 4px;\n",
       "    line-height: 19px;\n",
       "  }\n",
       "</style>\n",
       "<div class=\"ansiout\">Python interpreter will be restarted.\n",
       "Requirement already satisfied: azure-storage-blob in /local_disk0/.ephemeral_nfs/envs/pythonEnv-b5646bbe-f042-4749-a3b4-5b8ef7f8f218/lib/python3.8/site-packages (12.8.1)\n",
       "Requirement already satisfied: xlrd==1.2.0 in /local_disk0/.ephemeral_nfs/envs/pythonEnv-b5646bbe-f042-4749-a3b4-5b8ef7f8f218/lib/python3.8/site-packages (1.2.0)\n",
       "Requirement already satisfied: cryptography&gt;=2.1.4 in /databricks/python3/lib/python3.8/site-packages (from azure-storage-blob) (3.1.1)\n",
       "Requirement already satisfied: msrest&gt;=0.6.18 in /local_disk0/.ephemeral_nfs/envs/pythonEnv-b5646bbe-f042-4749-a3b4-5b8ef7f8f218/lib/python3.8/site-packages (from azure-storage-blob) (0.6.21)\n",
       "Requirement already satisfied: azure-core&lt;2.0.0,&gt;=1.10.0 in /local_disk0/.ephemeral_nfs/envs/pythonEnv-b5646bbe-f042-4749-a3b4-5b8ef7f8f218/lib/python3.8/site-packages (from azure-storage-blob) (1.17.0)\n",
       "Requirement already satisfied: cffi!=1.11.3,&gt;=1.8 in /databricks/python3/lib/python3.8/site-packages (from cryptography&gt;=2.1.4-&gt;azure-storage-blob) (1.14.3)\n",
       "Requirement already satisfied: six&gt;=1.4.1 in /databricks/python3/lib/python3.8/site-packages (from cryptography&gt;=2.1.4-&gt;azure-storage-blob) (1.15.0)\n",
       "Requirement already satisfied: certifi&gt;=2017.4.17 in /databricks/python3/lib/python3.8/site-packages (from msrest&gt;=0.6.18-&gt;azure-storage-blob) (2021.5.30)\n",
       "Requirement already satisfied: requests-oauthlib&gt;=0.5.0 in /local_disk0/.ephemeral_nfs/envs/pythonEnv-b5646bbe-f042-4749-a3b4-5b8ef7f8f218/lib/python3.8/site-packages (from msrest&gt;=0.6.18-&gt;azure-storage-blob) (1.3.0)\n",
       "Requirement already satisfied: isodate&gt;=0.6.0 in /local_disk0/.ephemeral_nfs/envs/pythonEnv-b5646bbe-f042-4749-a3b4-5b8ef7f8f218/lib/python3.8/site-packages (from msrest&gt;=0.6.18-&gt;azure-storage-blob) (0.6.0)\n",
       "Requirement already satisfied: requests~=2.16 in /databricks/python3/lib/python3.8/site-packages (from msrest&gt;=0.6.18-&gt;azure-storage-blob) (2.24.0)\n",
       "Requirement already satisfied: pycparser in /databricks/python3/lib/python3.8/site-packages (from cffi!=1.11.3,&gt;=1.8-&gt;cryptography&gt;=2.1.4-&gt;azure-storage-blob) (2.20)\n",
       "Requirement already satisfied: oauthlib&gt;=3.0.0 in /local_disk0/.ephemeral_nfs/envs/pythonEnv-b5646bbe-f042-4749-a3b4-5b8ef7f8f218/lib/python3.8/site-packages (from requests-oauthlib&gt;=0.5.0-&gt;msrest&gt;=0.6.18-&gt;azure-storage-blob) (3.1.1)\n",
       "Requirement already satisfied: chardet&lt;4,&gt;=3.0.2 in /databricks/python3/lib/python3.8/site-packages (from requests~=2.16-&gt;msrest&gt;=0.6.18-&gt;azure-storage-blob) (3.0.4)\n",
       "Requirement already satisfied: idna&lt;3,&gt;=2.5 in /databricks/python3/lib/python3.8/site-packages (from requests~=2.16-&gt;msrest&gt;=0.6.18-&gt;azure-storage-blob) (2.10)\n",
       "Requirement already satisfied: urllib3!=1.25.0,!=1.25.1,&lt;1.26,&gt;=1.21.1 in /databricks/python3/lib/python3.8/site-packages (from requests~=2.16-&gt;msrest&gt;=0.6.18-&gt;azure-storage-blob) (1.25.11)\n",
       "WARNING: You are using pip version 20.2.4; however, version 21.2.3 is available.\n",
       "You should consider upgrading via the &#39;/local_disk0/.ephemeral_nfs/envs/pythonEnv-b5646bbe-f042-4749-a3b4-5b8ef7f8f218/bin/python -m pip install --upgrade pip&#39; command.\n",
       "Python interpreter will be restarted.\n",
       "</div>"
      ]
     },
     "metadata": {
      "application/vnd.databricks.v1+output": {
       "addedWidgets": {},
       "arguments": {},
       "data": "<div class=\"ansiout\">Python interpreter will be restarted.\nRequirement already satisfied: azure-storage-blob in /local_disk0/.ephemeral_nfs/envs/pythonEnv-b5646bbe-f042-4749-a3b4-5b8ef7f8f218/lib/python3.8/site-packages (12.8.1)\nRequirement already satisfied: xlrd==1.2.0 in /local_disk0/.ephemeral_nfs/envs/pythonEnv-b5646bbe-f042-4749-a3b4-5b8ef7f8f218/lib/python3.8/site-packages (1.2.0)\nRequirement already satisfied: cryptography&gt;=2.1.4 in /databricks/python3/lib/python3.8/site-packages (from azure-storage-blob) (3.1.1)\nRequirement already satisfied: msrest&gt;=0.6.18 in /local_disk0/.ephemeral_nfs/envs/pythonEnv-b5646bbe-f042-4749-a3b4-5b8ef7f8f218/lib/python3.8/site-packages (from azure-storage-blob) (0.6.21)\nRequirement already satisfied: azure-core&lt;2.0.0,&gt;=1.10.0 in /local_disk0/.ephemeral_nfs/envs/pythonEnv-b5646bbe-f042-4749-a3b4-5b8ef7f8f218/lib/python3.8/site-packages (from azure-storage-blob) (1.17.0)\nRequirement already satisfied: cffi!=1.11.3,&gt;=1.8 in /databricks/python3/lib/python3.8/site-packages (from cryptography&gt;=2.1.4-&gt;azure-storage-blob) (1.14.3)\nRequirement already satisfied: six&gt;=1.4.1 in /databricks/python3/lib/python3.8/site-packages (from cryptography&gt;=2.1.4-&gt;azure-storage-blob) (1.15.0)\nRequirement already satisfied: certifi&gt;=2017.4.17 in /databricks/python3/lib/python3.8/site-packages (from msrest&gt;=0.6.18-&gt;azure-storage-blob) (2021.5.30)\nRequirement already satisfied: requests-oauthlib&gt;=0.5.0 in /local_disk0/.ephemeral_nfs/envs/pythonEnv-b5646bbe-f042-4749-a3b4-5b8ef7f8f218/lib/python3.8/site-packages (from msrest&gt;=0.6.18-&gt;azure-storage-blob) (1.3.0)\nRequirement already satisfied: isodate&gt;=0.6.0 in /local_disk0/.ephemeral_nfs/envs/pythonEnv-b5646bbe-f042-4749-a3b4-5b8ef7f8f218/lib/python3.8/site-packages (from msrest&gt;=0.6.18-&gt;azure-storage-blob) (0.6.0)\nRequirement already satisfied: requests~=2.16 in /databricks/python3/lib/python3.8/site-packages (from msrest&gt;=0.6.18-&gt;azure-storage-blob) (2.24.0)\nRequirement already satisfied: pycparser in /databricks/python3/lib/python3.8/site-packages (from cffi!=1.11.3,&gt;=1.8-&gt;cryptography&gt;=2.1.4-&gt;azure-storage-blob) (2.20)\nRequirement already satisfied: oauthlib&gt;=3.0.0 in /local_disk0/.ephemeral_nfs/envs/pythonEnv-b5646bbe-f042-4749-a3b4-5b8ef7f8f218/lib/python3.8/site-packages (from requests-oauthlib&gt;=0.5.0-&gt;msrest&gt;=0.6.18-&gt;azure-storage-blob) (3.1.1)\nRequirement already satisfied: chardet&lt;4,&gt;=3.0.2 in /databricks/python3/lib/python3.8/site-packages (from requests~=2.16-&gt;msrest&gt;=0.6.18-&gt;azure-storage-blob) (3.0.4)\nRequirement already satisfied: idna&lt;3,&gt;=2.5 in /databricks/python3/lib/python3.8/site-packages (from requests~=2.16-&gt;msrest&gt;=0.6.18-&gt;azure-storage-blob) (2.10)\nRequirement already satisfied: urllib3!=1.25.0,!=1.25.1,&lt;1.26,&gt;=1.21.1 in /databricks/python3/lib/python3.8/site-packages (from requests~=2.16-&gt;msrest&gt;=0.6.18-&gt;azure-storage-blob) (1.25.11)\nWARNING: You are using pip version 20.2.4; however, version 21.2.3 is available.\nYou should consider upgrading via the &#39;/local_disk0/.ephemeral_nfs/envs/pythonEnv-b5646bbe-f042-4749-a3b4-5b8ef7f8f218/bin/python -m pip install --upgrade pip&#39; command.\nPython interpreter will be restarted.\n</div>",
       "datasetInfos": [],
       "metadata": {},
       "removedWidgets": [],
       "type": "html"
      }
     },
     "output_type": "display_data"
    }
   ],
   "source": [
    "pip install azure-storage-blob xlrd==1.2.0"
   ]
  },
  {
   "cell_type": "code",
   "execution_count": 0,
   "metadata": {
    "application/vnd.databricks.v1+cell": {
     "inputWidgets": {},
     "nuid": "8e109399-d973-4fa7-ac76-303fc25c0b6a",
     "showTitle": false,
     "title": ""
    }
   },
   "outputs": [
    {
     "data": {
      "text/html": [
       "<style scoped>\n",
       "  .ansiout {\n",
       "    display: block;\n",
       "    unicode-bidi: embed;\n",
       "    white-space: pre-wrap;\n",
       "    word-wrap: break-word;\n",
       "    word-break: break-all;\n",
       "    font-family: \"Source Code Pro\", \"Menlo\", monospace;;\n",
       "    font-size: 13px;\n",
       "    color: #555;\n",
       "    margin-left: 4px;\n",
       "    line-height: 19px;\n",
       "  }\n",
       "</style>\n",
       "<div class=\"ansiout\"></div>"
      ]
     },
     "metadata": {
      "application/vnd.databricks.v1+output": {
       "addedWidgets": {},
       "arguments": {},
       "data": "<div class=\"ansiout\"></div>",
       "datasetInfos": [],
       "metadata": {},
       "removedWidgets": [],
       "type": "html"
      }
     },
     "output_type": "display_data"
    }
   ],
   "source": [
    "from pyspark.sql import SparkSession\n",
    "from pyspark.sql.types import StructField, StructType, StringType, IntegerType, ArrayType, Row\n",
    "from pyspark.sql.functions import split, explode, sequence, col\n",
    "from azure.storage.blob import BlobServiceClient\n",
    "\n",
    "from pathlib import Path\n",
    "from itertools import chain\n",
    "import pandas as pd\n",
    "import xlrd\n",
    "import os"
   ]
  },
  {
   "cell_type": "code",
   "execution_count": 0,
   "metadata": {
    "application/vnd.databricks.v1+cell": {
     "inputWidgets": {},
     "nuid": "dba70ca2-3e88-4b41-bc7b-e5f4b0df094a",
     "showTitle": false,
     "title": ""
    }
   },
   "outputs": [
    {
     "data": {
      "text/html": [
       "<style scoped>\n",
       "  .ansiout {\n",
       "    display: block;\n",
       "    unicode-bidi: embed;\n",
       "    white-space: pre-wrap;\n",
       "    word-wrap: break-word;\n",
       "    word-break: break-all;\n",
       "    font-family: \"Source Code Pro\", \"Menlo\", monospace;;\n",
       "    font-size: 13px;\n",
       "    color: #555;\n",
       "    margin-left: 4px;\n",
       "    line-height: 19px;\n",
       "  }\n",
       "</style>\n",
       "<div class=\"ansiout\"></div>"
      ]
     },
     "metadata": {
      "application/vnd.databricks.v1+output": {
       "addedWidgets": {},
       "arguments": {},
       "data": "<div class=\"ansiout\"></div>",
       "datasetInfos": [],
       "metadata": {},
       "removedWidgets": [],
       "type": "html"
      }
     },
     "output_type": "display_data"
    }
   ],
   "source": [
    "# Read input parameters\n",
    "dbutils.widgets.text(\"folder\", \"\")\n",
    "folder = dbutils.widgets.get(\"folder\")"
   ]
  },
  {
   "cell_type": "code",
   "execution_count": 0,
   "metadata": {
    "application/vnd.databricks.v1+cell": {
     "inputWidgets": {},
     "nuid": "8733d04d-eb04-40e3-b7ea-9884a3ac245c",
     "showTitle": false,
     "title": ""
    }
   },
   "outputs": [
    {
     "data": {
      "text/html": [
       "<style scoped>\n",
       "  .ansiout {\n",
       "    display: block;\n",
       "    unicode-bidi: embed;\n",
       "    white-space: pre-wrap;\n",
       "    word-wrap: break-word;\n",
       "    word-break: break-all;\n",
       "    font-family: \"Source Code Pro\", \"Menlo\", monospace;;\n",
       "    font-size: 13px;\n",
       "    color: #555;\n",
       "    margin-left: 4px;\n",
       "    line-height: 19px;\n",
       "  }\n",
       "</style>\n",
       "<div class=\"ansiout\">Remote blob path: wasbs://chargemasters@cahospitalstorage.blob.core.windows.net/\n",
       "</div>"
      ]
     },
     "metadata": {
      "application/vnd.databricks.v1+output": {
       "addedWidgets": {},
       "arguments": {},
       "data": "<div class=\"ansiout\">Remote blob path: wasbs://chargemasters@cahospitalstorage.blob.core.windows.net/\n</div>",
       "datasetInfos": [],
       "metadata": {},
       "removedWidgets": [],
       "type": "html"
      }
     },
     "output_type": "display_data"
    }
   ],
   "source": [
    "# Connect to blob storage\n",
    "blob_account_name = \"cahospitalstorage\"\n",
    "blob_container_name = \"chargemasters\"\n",
    "blob_sas_token = r\"sp=racwl&st=2021-08-09T17:55:40Z&se=2021-08-10T01:55:40Z&sv=2020-08-04&sr=c&sig=Q8eHbmLaLe9wujjAPXjhoqzQcsYISGO4HHHnY8P5dYE%3D\"\n",
    "\n",
    "wasbs_path = \"wasbs://%s@%s.blob.core.windows.net/\" % (blob_container_name, blob_account_name)\n",
    "spark.conf.set(\"fs.azure.sas.%s.%s.blob.core.windows.net\" % (blob_container_name, blob_account_name), blob_sas_token)\n",
    "print('Remote blob path: ' + wasbs_path)"
   ]
  },
  {
   "cell_type": "code",
   "execution_count": 0,
   "metadata": {
    "application/vnd.databricks.v1+cell": {
     "inputWidgets": {},
     "nuid": "aa50cf88-90c8-45c5-a19a-0803df62b598",
     "showTitle": false,
     "title": ""
    }
   },
   "outputs": [
    {
     "data": {
      "text/html": [
       "<style scoped>\n",
       "  .ansiout {\n",
       "    display: block;\n",
       "    unicode-bidi: embed;\n",
       "    white-space: pre-wrap;\n",
       "    word-wrap: break-word;\n",
       "    word-break: break-all;\n",
       "    font-family: \"Source Code Pro\", \"Menlo\", monospace;;\n",
       "    font-size: 13px;\n",
       "    color: #555;\n",
       "    margin-left: 4px;\n",
       "    line-height: 19px;\n",
       "  }\n",
       "</style>\n",
       "<div class=\"ansiout\"></div>"
      ]
     },
     "metadata": {
      "application/vnd.databricks.v1+output": {
       "addedWidgets": {},
       "arguments": {},
       "data": "<div class=\"ansiout\"></div>",
       "datasetInfos": [],
       "metadata": {},
       "removedWidgets": [],
       "type": "html"
      }
     },
     "output_type": "display_data"
    }
   ],
   "source": [
    "# Get path of excel files\n",
    "connection_string = \"DefaultEndpointsProtocol=https;AccountName=cahospitalstorage;AccountKey=w3EYeDH//L+J0uscsn3BYDatbFCcB7CUXK4MfOSNmwc16v3WAQ7EPcw2IpchUrelLVuowjfugmv99e0Os8J5Sw==;EndpointSuffix=core.windows.net\"\n",
    "blob_service_client = BlobServiceClient.from_connection_string(connection_string)\n",
    "container_client = blob_service_client.get_container_client(blob_container_name)\n",
    "\n",
    "files = container_client.list_blobs(name_starts_with='raw_data/' + folder)\n",
    "files_rdd = spark.sparkContext.parallelize(files).map(lambda record: record['name'])\n",
    "excel_files_rdd = files_rdd.filter(lambda file: '.xlsx' in file or '.xls' in file)"
   ]
  },
  {
   "cell_type": "code",
   "execution_count": 0,
   "metadata": {
    "application/vnd.databricks.v1+cell": {
     "inputWidgets": {},
     "nuid": "a4038bb4-ebf2-4417-8c16-5956c173d262",
     "showTitle": false,
     "title": ""
    }
   },
   "outputs": [
    {
     "data": {
      "text/html": [
       "<style scoped>\n",
       "  .ansiout {\n",
       "    display: block;\n",
       "    unicode-bidi: embed;\n",
       "    white-space: pre-wrap;\n",
       "    word-wrap: break-word;\n",
       "    word-break: break-all;\n",
       "    font-family: \"Source Code Pro\", \"Menlo\", monospace;;\n",
       "    font-size: 13px;\n",
       "    color: #555;\n",
       "    margin-left: 4px;\n",
       "    line-height: 19px;\n",
       "  }\n",
       "</style>\n",
       "<div class=\"ansiout\"></div>"
      ]
     },
     "metadata": {
      "application/vnd.databricks.v1+output": {
       "addedWidgets": {},
       "arguments": {},
       "data": "<div class=\"ansiout\"></div>",
       "datasetInfos": [],
       "metadata": {},
       "removedWidgets": [],
       "type": "html"
      }
     },
     "output_type": "display_data"
    }
   ],
   "source": [
    "def sheet_names(file):\n",
    "    blob_data = container_client.get_blob_client(file)\n",
    "    blob = blob_data.download_blob().content_as_bytes()\n",
    "    try:\n",
    "        df = pd.read_excel(blob, None)\n",
    "        return (file, list(df.keys()))\n",
    "    except:\n",
    "        return (None, None)\n",
    "\n",
    "def read_files(row):\n",
    "    file = row[0]\n",
    "    sheet = row[1]\n",
    "    match_string = 'Evaluation & Management Services (CPT Codes 99201-99499)'\n",
    "  \n",
    "    blob_data = container_client.get_blob_client(file)\n",
    "    blob = blob_data.download_blob().content_as_bytes()\n",
    "    try:\n",
    "        df = pd.read_excel(blob, sheet)\n",
    "        df_string = df.to_string()\n",
    "        if match_string in df_string:\n",
    "            return (file, sheet)\n",
    "    except:\n",
    "        return (None, None)\n",
    "\n",
    "sheetnames = excel_files_rdd.map(sheet_names).toDF(['File', 'Sheetname'])\n",
    "sheetnames_expand = sheetnames.withColumn('Sheetname',explode('Sheetname'))\n",
    "\n",
    "forms = sheetnames_expand.rdd.map(read_files).filter(lambda x: x is not None)\n",
    "forms_list = forms.collect()"
   ]
  },
  {
   "cell_type": "code",
   "execution_count": 0,
   "metadata": {
    "application/vnd.databricks.v1+cell": {
     "inputWidgets": {},
     "nuid": "0fb9711e-cb10-4d45-9b63-ec9eda6e6e15",
     "showTitle": false,
     "title": ""
    }
   },
   "outputs": [
    {
     "data": {
      "text/html": [
       "<style scoped>\n",
       "  .ansiout {\n",
       "    display: block;\n",
       "    unicode-bidi: embed;\n",
       "    white-space: pre-wrap;\n",
       "    word-wrap: break-word;\n",
       "    word-break: break-all;\n",
       "    font-family: \"Source Code Pro\", \"Menlo\", monospace;;\n",
       "    font-size: 13px;\n",
       "    color: #555;\n",
       "    margin-left: 4px;\n",
       "    line-height: 19px;\n",
       "  }\n",
       "</style>\n",
       "<div class=\"ansiout\">/databricks/spark/python/pyspark/sql/pandas/conversion.py:300: UserWarning: createDataFrame attempted Arrow optimization because &#39;spark.sql.execution.arrow.pyspark.enabled&#39; is set to true; however, failed by the reason below:\n",
       "  Expected a string or bytes object, got a &#39;int&#39; object\n",
       "Attempting non-optimization as &#39;spark.sql.execution.arrow.pyspark.fallback.enabled&#39; is set to true.\n",
       "  warnings.warn(msg)\n",
       "/databricks/spark/python/pyspark/sql/pandas/conversion.py:300: UserWarning: createDataFrame attempted Arrow optimization because &#39;spark.sql.execution.arrow.pyspark.enabled&#39; is set to true; however, failed by the reason below:\n",
       "  Expected a string or bytes object, got a &#39;float&#39; object\n",
       "Attempting non-optimization as &#39;spark.sql.execution.arrow.pyspark.fallback.enabled&#39; is set to true.\n",
       "  warnings.warn(msg)\n",
       "</div>"
      ]
     },
     "metadata": {
      "application/vnd.databricks.v1+output": {
       "addedWidgets": {},
       "arguments": {},
       "data": "<div class=\"ansiout\">/databricks/spark/python/pyspark/sql/pandas/conversion.py:300: UserWarning: createDataFrame attempted Arrow optimization because &#39;spark.sql.execution.arrow.pyspark.enabled&#39; is set to true; however, failed by the reason below:\n  Expected a string or bytes object, got a &#39;int&#39; object\nAttempting non-optimization as &#39;spark.sql.execution.arrow.pyspark.fallback.enabled&#39; is set to true.\n  warnings.warn(msg)\n/databricks/spark/python/pyspark/sql/pandas/conversion.py:300: UserWarning: createDataFrame attempted Arrow optimization because &#39;spark.sql.execution.arrow.pyspark.enabled&#39; is set to true; however, failed by the reason below:\n  Expected a string or bytes object, got a &#39;float&#39; object\nAttempting non-optimization as &#39;spark.sql.execution.arrow.pyspark.fallback.enabled&#39; is set to true.\n  warnings.warn(msg)\n</div>",
       "datasetInfos": [],
       "metadata": {},
       "removedWidgets": [],
       "type": "html"
      }
     },
     "output_type": "display_data"
    }
   ],
   "source": [
    "# Read each target excel sheet and concatentate all rows with CPT code\n",
    "schema = StructType([\n",
    "    StructField('Description', StringType(), True),\n",
    "    StructField('CPT', StringType(), True),\n",
    "    StructField('Charge', StringType(), False)\n",
    "])\n",
    "df_all = spark.createDataFrame(spark.sparkContext.emptyRDD(), schema)\n",
    "\n",
    "for form in forms_list:\n",
    "  filepath = form[0]\n",
    "  sheet = form[1]\n",
    "  blob_data = container_client.get_blob_client(filepath)\n",
    "  try:\n",
    "    with open(\"temp.xlsx\", \"wb\") as temp:\n",
    "      data = blob_data.download_blob()\n",
    "      data.readinto(temp)\n",
    "    pdf = pd.read_excel(\"temp.xlsx\", sheet_name = sheet, \n",
    "                        usecols=[0,1,2], \n",
    "                        names = ['Description', 'CPT', 'Charge'])\n",
    "\n",
    "    df_tmp = spark.createDataFrame(pdf, schema=schema)\n",
    "    df_tmp = df_tmp.filter(df_tmp.CPT.rlike(\"\\d{5}\"))\n",
    "    df_all = df_all.union(df_tmp)\n",
    "  except:\n",
    "    print(\"Cannot read xlsx file: %s\" % (filepath))\n",
    "    pass"
   ]
  },
  {
   "cell_type": "code",
   "execution_count": 0,
   "metadata": {
    "application/vnd.databricks.v1+cell": {
     "inputWidgets": {},
     "nuid": "10facf6a-e5a4-4e8b-8ff3-38f071c238e2",
     "showTitle": false,
     "title": ""
    }
   },
   "outputs": [
    {
     "data": {
      "text/html": [
       "<style scoped>\n",
       "  .ansiout {\n",
       "    display: block;\n",
       "    unicode-bidi: embed;\n",
       "    white-space: pre-wrap;\n",
       "    word-wrap: break-word;\n",
       "    word-break: break-all;\n",
       "    font-family: \"Source Code Pro\", \"Menlo\", monospace;;\n",
       "    font-size: 13px;\n",
       "    color: #555;\n",
       "    margin-left: 4px;\n",
       "    line-height: 19px;\n",
       "  }\n",
       "</style>\n",
       "<div class=\"ansiout\"></div>"
      ]
     },
     "metadata": {
      "application/vnd.databricks.v1+output": {
       "addedWidgets": {},
       "arguments": {},
       "data": "<div class=\"ansiout\"></div>",
       "datasetInfos": [],
       "metadata": {},
       "removedWidgets": [],
       "type": "html"
      }
     },
     "output_type": "display_data"
    }
   ],
   "source": [
    "# Clean up df_all\n",
    "## Ex. ranges => CPT Code 97161-9763 -> 97161, 97162, 97163\n",
    "## Ex. splits => CPT Code 81002 or 81003\n",
    "df_ranges = df_all.filter(df_all.CPT.contains(\"-\"))\n",
    "df_split  = df_all.filter(df_all.CPT.rlike(\"/|or\"))\n",
    "df_int  = df_all.filter(~df_all.CPT.rlike(\"-|/|or\"))\n",
    "\n",
    "# df_ranges\n",
    "df_array = df_ranges.withColumn('CPT_array', split('CPT', '-').cast(ArrayType(IntegerType())))\n",
    "df_array = df_array.withColumn('CPT', explode(sequence(col('CPT_array')[0], col('CPT_array')[1])))\n",
    "df_array = df_array.select(['Description', 'CPT', 'Charge'])\n",
    "\n",
    "# df_split\n",
    "df_split = df_split.withColumn('CPT',explode(split('CPT',\"\\/|or\"))) \n",
    "\n",
    "# combine\n",
    "df_new_rows = df_array.union(df_split)\n",
    "df_final = df_new_rows.union(df_int)"
   ]
  },
  {
   "cell_type": "code",
   "execution_count": 0,
   "metadata": {
    "application/vnd.databricks.v1+cell": {
     "inputWidgets": {},
     "nuid": "2514d7b9-1b22-4bc5-84d8-399b3b82e8bb",
     "showTitle": false,
     "title": ""
    }
   },
   "outputs": [
    {
     "data": {
      "text/html": [
       "<style scoped>\n",
       "  .ansiout {\n",
       "    display: block;\n",
       "    unicode-bidi: embed;\n",
       "    white-space: pre-wrap;\n",
       "    word-wrap: break-word;\n",
       "    word-break: break-all;\n",
       "    font-family: \"Source Code Pro\", \"Menlo\", monospace;;\n",
       "    font-size: 13px;\n",
       "    color: #555;\n",
       "    margin-left: 4px;\n",
       "    line-height: 19px;\n",
       "  }\n",
       "</style>\n",
       "<div class=\"ansiout\"></div>"
      ]
     },
     "metadata": {
      "application/vnd.databricks.v1+output": {
       "addedWidgets": {},
       "arguments": {},
       "data": "<div class=\"ansiout\"></div>",
       "datasetInfos": [],
       "metadata": {},
       "removedWidgets": [],
       "type": "html"
      }
     },
     "output_type": "display_data"
    }
   ],
   "source": [
    "# Export df_final to blob storage\n",
    "output = \"clean_data_chargemasters\"\n",
    "df_final.write.option(\"header\", \"true\").mode(\"overwrite\").parquet(output)\n",
    "for file in os.listdir(\"/dbfs/\" + output):\n",
    "  try:\n",
    "    with open(\"/dbfs/%s/%s\" % (output, file), \"rb\") as data:\n",
    "        container_client.upload_blob(name=\"%s/%s/%s\" % (output, folder, file), data=data, overwrite=True)\n",
    "  except Exception as e:\n",
    "    print(e)"
   ]
  },
  {
   "cell_type": "code",
   "execution_count": 0,
   "metadata": {
    "application/vnd.databricks.v1+cell": {
     "inputWidgets": {},
     "nuid": "7e9cbf47-fe9d-4ac2-9235-5d75dee2e2e0",
     "showTitle": false,
     "title": ""
    }
   },
   "outputs": [
    {
     "data": {
      "text/html": [
       "<style scoped>\n",
       "  .ansiout {\n",
       "    display: block;\n",
       "    unicode-bidi: embed;\n",
       "    white-space: pre-wrap;\n",
       "    word-wrap: break-word;\n",
       "    word-break: break-all;\n",
       "    font-family: \"Source Code Pro\", \"Menlo\", monospace;;\n",
       "    font-size: 13px;\n",
       "    color: #555;\n",
       "    margin-left: 4px;\n",
       "    line-height: 19px;\n",
       "  }\n",
       "</style>"
      ]
     },
     "metadata": {
      "application/vnd.databricks.v1+output": {
       "arguments": {},
       "data": "",
       "errorSummary": "",
       "errorTraceType": null,
       "metadata": {},
       "type": "ipynbError"
      }
     },
     "output_type": "display_data"
    }
   ],
   "source": [
    "dbutils.notebook.exit(\"%s/%s/%s\" % (blob_container_name, output, folder))"
   ]
  }
 ],
 "metadata": {
  "application/vnd.databricks.v1+notebook": {
   "dashboards": [],
   "language": "python",
   "notebookMetadata": {
    "pythonIndentUnit": 2
   },
   "notebookName": "clean_chargemasters",
   "notebookOrigID": 863970003445750,
   "widgets": {}
  },
  "kernelspec": {
   "display_name": "Python 3",
   "language": "python",
   "name": "python3"
  },
  "language_info": {
   "codemirror_mode": {
    "name": "ipython",
    "version": 3
   },
   "file_extension": ".py",
   "mimetype": "text/x-python",
   "name": "python",
   "nbconvert_exporter": "python",
   "pygments_lexer": "ipython3",
   "version": "3.8.5"
  }
 },
 "nbformat": 4,
 "nbformat_minor": 1
}
