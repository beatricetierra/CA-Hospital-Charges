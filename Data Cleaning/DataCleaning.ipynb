{
 "cells": [
  {
   "cell_type": "code",
   "execution_count": 5,
   "metadata": {},
   "outputs": [],
   "source": [
    "import pandas as pd\n",
    "import zipfile\n",
    "from pyspark.sql import SparkSession\n",
    "from azure.storage.blob import BlobServiceClient"
   ]
  },
  {
   "cell_type": "code",
   "execution_count": 2,
   "metadata": {},
   "outputs": [],
   "source": [
    "def spark_session():\n",
    "    spark = SparkSession.builder.appName(\"app\").getOrCreate()\n",
    "    spark.conf.set(\"fs.azure.account.key.cahospitalstorage.blob.core.windows.net\", \\\n",
    "    \"w3EYeDH//L+J0uscsn3BYDatbFCcB7CUXK4MfOSNmwc16v3WAQ7EPcw2IpchUrelLVuowjfugmv99e0Os8J5Sw==\")\n",
    "    return spark\n",
    "\n",
    "def connect_blob():\n",
    "    storage_conn_string = \"DefaultEndpointsProtocol=https;AccountName=cahospitalstorage;AccountKey=w3EYeDH//L+J0uscsn3BYDatbFCcB7CUXK4MfOSNmwc16v3WAQ7EPcw2IpchUrelLVuowjfugmv99e0Os8J5Sw==;EndpointSuffix=core.windows.net\"\n",
    "    blob_service_client = BlobServiceClient.from_connection_string(storage_conn_string)\n",
    "    return blob_service_client \n",
    "\n",
    "def get_blob_data(blob_service_client, container, blob_location):\n",
    "    container_client = blob_service_client.get_container_client(container)\n",
    "    blob_data = container_client.get_blob_client(blob_location)\n",
    "    if not blob_data.exists():\n",
    "        raise FileNotFoundError('File not found in given container.')\n",
    "    return container_client, blob_data\n",
    "    \n",
    "def blob_to_temp(filetype, blob_data):\n",
    "    if not blob_data.exists():\n",
    "        raise OSError('File not found in given container.')\n",
    "        \n",
    "    if filetype == 'excel':\n",
    "        temp_name = \"temp.xlsx\"\n",
    "    elif filetype == 'csv':\n",
    "        temp_name = \"temp.txt\"\n",
    "    else:\n",
    "        raise ValueError('Incorrect filetype entered. Only excel and csv files accepted')\n",
    "    with open(temp_name, \"wb\") as temp:\n",
    "        data = blob_data.download_blob()\n",
    "        data.readinto(temp)\n",
    "        \n",
    "def read_blob_data(filetype, sheetname=0, dtype=None, delim=None, skiprows=None, usecols=None, columns=None):\n",
    "    if filetype == 'excel':\n",
    "        return pd.read_excel(\"temp.xlsx\", sheet_name=sheetname, skiprows=skiprows, names=columns, engine=\"openpyxl\")\n",
    "    elif filetype == 'csv':\n",
    "        return pd.read_csv(\"temp.txt\", dtype='unicode', delimiter=delim, skiprows=skiprows, names=columns)\n",
    "    else:\n",
    "        raise ValueError('Incorrect filetype entered. Only excel and csv files accepted')\n",
    "        \n",
    "def export_to_blob(output, blob_name, container_client):\n",
    "    for file in os.listdir(output):\n",
    "        try:\n",
    "            with open(\"%s/%s\" % (output, file), \"rb\") as data:\n",
    "                container_client.upload_blob(name='%s/%s' % (blob_name, file), data=data, overwrite=True)\n",
    "                data.close()\n",
    "        except Exception as e:\n",
    "            print(e)"
   ]
  },
  {
   "cell_type": "code",
   "execution_count": 4,
   "metadata": {},
   "outputs": [],
   "source": [
    "def sheet_names(element):\n",
    "    file = element[0]\n",
    "    container_client = element[1]\n",
    "    blob_data = container_client.get_blob_client(file)\n",
    "    blob = blob_data.download_blob().readall()\n",
    "    try:\n",
    "        df = pd.read_excel(blob, sheet_name=None, engine=\"openpyxl\")\n",
    "        return (file, list(df.keys()))\n",
    "    except (OSError, zipfile.BadZipFile): \n",
    "        return (None, None)\n",
    "\n",
    "def read_files(row):\n",
    "    file = row[0]\n",
    "    sheet = row[1]\n",
    "    container_client = row[2]\n",
    "    match_string = 'Evaluation & Management Services (CPT Codes 99201-99499)'\n",
    "  \n",
    "    blob_data = container_client.get_blob_client(file)\n",
    "    blob = blob_data.download_blob().readall()\n",
    "    try:\n",
    "        df = pd.read_excel(blob, sheet_name=sheet, engine=\"openpyxl\")\n",
    "        df_string = df.to_string()\n",
    "        if match_string in df_string:\n",
    "            return (file, sheet)\n",
    "        return (None, None)\n",
    "    except OSError:\n",
    "        return (None, None)\n"
   ]
  }
 ],
 "metadata": {
  "kernelspec": {
   "display_name": "Python 3",
   "language": "python",
   "name": "python3"
  },
  "language_info": {
   "codemirror_mode": {
    "name": "ipython",
    "version": 3
   },
   "file_extension": ".py",
   "mimetype": "text/x-python",
   "name": "python",
   "nbconvert_exporter": "python",
   "pygments_lexer": "ipython3",
   "version": "3.8.5"
  }
 },
 "nbformat": 4,
 "nbformat_minor": 4
}
