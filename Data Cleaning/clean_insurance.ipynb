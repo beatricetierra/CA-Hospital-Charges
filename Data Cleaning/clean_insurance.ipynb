{
 "cells": [
  {
   "cell_type": "code",
   "execution_count": 0,
   "metadata": {
    "application/vnd.databricks.v1+cell": {
     "inputWidgets": {},
     "nuid": "e47c465d-c948-45ef-a098-1bc713ab4c05",
     "showTitle": false,
     "title": ""
    }
   },
   "outputs": [
    {
     "data": {
      "text/html": [
       "<style scoped>\n",
       "  .ansiout {\n",
       "    display: block;\n",
       "    unicode-bidi: embed;\n",
       "    white-space: pre-wrap;\n",
       "    word-wrap: break-word;\n",
       "    word-break: break-all;\n",
       "    font-family: \"Source Code Pro\", \"Menlo\", monospace;;\n",
       "    font-size: 13px;\n",
       "    color: #555;\n",
       "    margin-left: 4px;\n",
       "    line-height: 19px;\n",
       "  }\n",
       "</style>\n",
       "<div class=\"ansiout\">Python interpreter will be restarted.\n",
       "Collecting azure-storage-blob\n",
       "  Downloading azure_storage_blob-12.8.1-py2.py3-none-any.whl (345 kB)\n",
       "Collecting xlrd==1.2.0\n",
       "  Downloading xlrd-1.2.0-py2.py3-none-any.whl (103 kB)\n",
       "Collecting azure-core&lt;2.0.0,&gt;=1.10.0\n",
       "  Downloading azure_core-1.17.0-py2.py3-none-any.whl (165 kB)\n",
       "Collecting msrest&gt;=0.6.18\n",
       "  Downloading msrest-0.6.21-py2.py3-none-any.whl (85 kB)\n",
       "Requirement already satisfied: cryptography&gt;=2.1.4 in /databricks/python3/lib/python3.8/site-packages (from azure-storage-blob) (3.1.1)\n",
       "Requirement already satisfied: requests&gt;=2.18.4 in /databricks/python3/lib/python3.8/site-packages (from azure-core&lt;2.0.0,&gt;=1.10.0-&gt;azure-storage-blob) (2.24.0)\n",
       "Requirement already satisfied: six&gt;=1.11.0 in /databricks/python3/lib/python3.8/site-packages (from azure-core&lt;2.0.0,&gt;=1.10.0-&gt;azure-storage-blob) (1.15.0)\n",
       "Requirement already satisfied: certifi&gt;=2017.4.17 in /databricks/python3/lib/python3.8/site-packages (from msrest&gt;=0.6.18-&gt;azure-storage-blob) (2021.5.30)\n",
       "Collecting requests-oauthlib&gt;=0.5.0\n",
       "  Downloading requests_oauthlib-1.3.0-py2.py3-none-any.whl (23 kB)\n",
       "Collecting isodate&gt;=0.6.0\n",
       "  Downloading isodate-0.6.0-py2.py3-none-any.whl (45 kB)\n",
       "Requirement already satisfied: cffi!=1.11.3,&gt;=1.8 in /databricks/python3/lib/python3.8/site-packages (from cryptography&gt;=2.1.4-&gt;azure-storage-blob) (1.14.3)\n",
       "Requirement already satisfied: urllib3!=1.25.0,!=1.25.1,&lt;1.26,&gt;=1.21.1 in /databricks/python3/lib/python3.8/site-packages (from requests&gt;=2.18.4-&gt;azure-core&lt;2.0.0,&gt;=1.10.0-&gt;azure-storage-blob) (1.25.11)\n",
       "Requirement already satisfied: idna&lt;3,&gt;=2.5 in /databricks/python3/lib/python3.8/site-packages (from requests&gt;=2.18.4-&gt;azure-core&lt;2.0.0,&gt;=1.10.0-&gt;azure-storage-blob) (2.10)\n",
       "Requirement already satisfied: chardet&lt;4,&gt;=3.0.2 in /databricks/python3/lib/python3.8/site-packages (from requests&gt;=2.18.4-&gt;azure-core&lt;2.0.0,&gt;=1.10.0-&gt;azure-storage-blob) (3.0.4)\n",
       "Collecting oauthlib&gt;=3.0.0\n",
       "  Downloading oauthlib-3.1.1-py2.py3-none-any.whl (146 kB)\n",
       "Requirement already satisfied: pycparser in /databricks/python3/lib/python3.8/site-packages (from cffi!=1.11.3,&gt;=1.8-&gt;cryptography&gt;=2.1.4-&gt;azure-storage-blob) (2.20)\n",
       "Installing collected packages: azure-core, oauthlib, requests-oauthlib, isodate, msrest, azure-storage-blob, xlrd\n",
       "Successfully installed azure-core-1.17.0 azure-storage-blob-12.8.1 isodate-0.6.0 msrest-0.6.21 oauthlib-3.1.1 requests-oauthlib-1.3.0 xlrd-1.2.0\n",
       "WARNING: You are using pip version 20.2.4; however, version 21.2.4 is available.\n",
       "You should consider upgrading via the &#39;/local_disk0/.ephemeral_nfs/envs/pythonEnv-bc88cb9d-a363-473b-9606-f28f710b8778/bin/python -m pip install --upgrade pip&#39; command.\n",
       "Python interpreter will be restarted.\n",
       "</div>"
      ]
     },
     "metadata": {
      "application/vnd.databricks.v1+output": {
       "addedWidgets": {},
       "arguments": {},
       "data": "<div class=\"ansiout\">Python interpreter will be restarted.\nCollecting azure-storage-blob\n  Downloading azure_storage_blob-12.8.1-py2.py3-none-any.whl (345 kB)\nCollecting xlrd==1.2.0\n  Downloading xlrd-1.2.0-py2.py3-none-any.whl (103 kB)\nCollecting azure-core&lt;2.0.0,&gt;=1.10.0\n  Downloading azure_core-1.17.0-py2.py3-none-any.whl (165 kB)\nCollecting msrest&gt;=0.6.18\n  Downloading msrest-0.6.21-py2.py3-none-any.whl (85 kB)\nRequirement already satisfied: cryptography&gt;=2.1.4 in /databricks/python3/lib/python3.8/site-packages (from azure-storage-blob) (3.1.1)\nRequirement already satisfied: requests&gt;=2.18.4 in /databricks/python3/lib/python3.8/site-packages (from azure-core&lt;2.0.0,&gt;=1.10.0-&gt;azure-storage-blob) (2.24.0)\nRequirement already satisfied: six&gt;=1.11.0 in /databricks/python3/lib/python3.8/site-packages (from azure-core&lt;2.0.0,&gt;=1.10.0-&gt;azure-storage-blob) (1.15.0)\nRequirement already satisfied: certifi&gt;=2017.4.17 in /databricks/python3/lib/python3.8/site-packages (from msrest&gt;=0.6.18-&gt;azure-storage-blob) (2021.5.30)\nCollecting requests-oauthlib&gt;=0.5.0\n  Downloading requests_oauthlib-1.3.0-py2.py3-none-any.whl (23 kB)\nCollecting isodate&gt;=0.6.0\n  Downloading isodate-0.6.0-py2.py3-none-any.whl (45 kB)\nRequirement already satisfied: cffi!=1.11.3,&gt;=1.8 in /databricks/python3/lib/python3.8/site-packages (from cryptography&gt;=2.1.4-&gt;azure-storage-blob) (1.14.3)\nRequirement already satisfied: urllib3!=1.25.0,!=1.25.1,&lt;1.26,&gt;=1.21.1 in /databricks/python3/lib/python3.8/site-packages (from requests&gt;=2.18.4-&gt;azure-core&lt;2.0.0,&gt;=1.10.0-&gt;azure-storage-blob) (1.25.11)\nRequirement already satisfied: idna&lt;3,&gt;=2.5 in /databricks/python3/lib/python3.8/site-packages (from requests&gt;=2.18.4-&gt;azure-core&lt;2.0.0,&gt;=1.10.0-&gt;azure-storage-blob) (2.10)\nRequirement already satisfied: chardet&lt;4,&gt;=3.0.2 in /databricks/python3/lib/python3.8/site-packages (from requests&gt;=2.18.4-&gt;azure-core&lt;2.0.0,&gt;=1.10.0-&gt;azure-storage-blob) (3.0.4)\nCollecting oauthlib&gt;=3.0.0\n  Downloading oauthlib-3.1.1-py2.py3-none-any.whl (146 kB)\nRequirement already satisfied: pycparser in /databricks/python3/lib/python3.8/site-packages (from cffi!=1.11.3,&gt;=1.8-&gt;cryptography&gt;=2.1.4-&gt;azure-storage-blob) (2.20)\nInstalling collected packages: azure-core, oauthlib, requests-oauthlib, isodate, msrest, azure-storage-blob, xlrd\nSuccessfully installed azure-core-1.17.0 azure-storage-blob-12.8.1 isodate-0.6.0 msrest-0.6.21 oauthlib-3.1.1 requests-oauthlib-1.3.0 xlrd-1.2.0\nWARNING: You are using pip version 20.2.4; however, version 21.2.4 is available.\nYou should consider upgrading via the &#39;/local_disk0/.ephemeral_nfs/envs/pythonEnv-bc88cb9d-a363-473b-9606-f28f710b8778/bin/python -m pip install --upgrade pip&#39; command.\nPython interpreter will be restarted.\n</div>",
       "datasetInfos": [],
       "metadata": {},
       "removedWidgets": [],
       "type": "html"
      }
     },
     "output_type": "display_data"
    }
   ],
   "source": [
    "pip install azure-storage-blob xlrd==1.2.0"
   ]
  },
  {
   "cell_type": "code",
   "execution_count": 0,
   "metadata": {
    "application/vnd.databricks.v1+cell": {
     "inputWidgets": {},
     "nuid": "182cca1b-322d-4037-bca3-01676ce22e4c",
     "showTitle": false,
     "title": ""
    }
   },
   "outputs": [
    {
     "data": {
      "text/html": [
       "<style scoped>\n",
       "  .ansiout {\n",
       "    display: block;\n",
       "    unicode-bidi: embed;\n",
       "    white-space: pre-wrap;\n",
       "    word-wrap: break-word;\n",
       "    word-break: break-all;\n",
       "    font-family: \"Source Code Pro\", \"Menlo\", monospace;;\n",
       "    font-size: 13px;\n",
       "    color: #555;\n",
       "    margin-left: 4px;\n",
       "    line-height: 19px;\n",
       "  }\n",
       "</style>\n",
       "<div class=\"ansiout\"></div>"
      ]
     },
     "metadata": {
      "application/vnd.databricks.v1+output": {
       "addedWidgets": {},
       "arguments": {},
       "data": "<div class=\"ansiout\"></div>",
       "datasetInfos": [],
       "metadata": {},
       "removedWidgets": [],
       "type": "html"
      }
     },
     "output_type": "display_data"
    }
   ],
   "source": [
    "from pyspark.sql import SparkSession\n",
    "from azure.storage.blob import BlobServiceClient\n",
    "from pyspark.sql.types import StructField, StructType, StringType\n",
    "import pandas as pd\n",
    "import os"
   ]
  },
  {
   "cell_type": "code",
   "execution_count": 0,
   "metadata": {
    "application/vnd.databricks.v1+cell": {
     "inputWidgets": {},
     "nuid": "61709dc0-0be2-4305-ab03-dade8117be17",
     "showTitle": false,
     "title": ""
    }
   },
   "outputs": [
    {
     "data": {
      "text/html": [
       "<style scoped>\n",
       "  .ansiout {\n",
       "    display: block;\n",
       "    unicode-bidi: embed;\n",
       "    white-space: pre-wrap;\n",
       "    word-wrap: break-word;\n",
       "    word-break: break-all;\n",
       "    font-family: \"Source Code Pro\", \"Menlo\", monospace;;\n",
       "    font-size: 13px;\n",
       "    color: #555;\n",
       "    margin-left: 4px;\n",
       "    line-height: 19px;\n",
       "  }\n",
       "</style>\n",
       "<div class=\"ansiout\"></div>"
      ]
     },
     "metadata": {
      "application/vnd.databricks.v1+output": {
       "addedWidgets": {},
       "arguments": {},
       "data": "<div class=\"ansiout\"></div>",
       "datasetInfos": [],
       "metadata": {},
       "removedWidgets": [],
       "type": "html"
      }
     },
     "output_type": "display_data"
    }
   ],
   "source": [
    "# start spark session\n",
    "spark = SparkSession.builder.appName(\"app\").getOrCreate()\n",
    "spark.conf.set(\"fs.azure.account.key.cahospitalstorage.blob.core.windows.net\", \\\n",
    "    \"w3EYeDH//L+J0uscsn3BYDatbFCcB7CUXK4MfOSNmwc16v3WAQ7EPcw2IpchUrelLVuowjfugmv99e0Os8J5Sw==\")"
   ]
  },
  {
   "cell_type": "code",
   "execution_count": 0,
   "metadata": {
    "application/vnd.databricks.v1+cell": {
     "inputWidgets": {},
     "nuid": "eec8a2fb-58fd-4383-ac11-652f4878f0c3",
     "showTitle": false,
     "title": ""
    }
   },
   "outputs": [
    {
     "data": {
      "text/html": [
       "<style scoped>\n",
       "  .ansiout {\n",
       "    display: block;\n",
       "    unicode-bidi: embed;\n",
       "    white-space: pre-wrap;\n",
       "    word-wrap: break-word;\n",
       "    word-break: break-all;\n",
       "    font-family: \"Source Code Pro\", \"Menlo\", monospace;;\n",
       "    font-size: 13px;\n",
       "    color: #555;\n",
       "    margin-left: 4px;\n",
       "    line-height: 19px;\n",
       "  }\n",
       "</style>\n",
       "<div class=\"ansiout\"></div>"
      ]
     },
     "metadata": {
      "application/vnd.databricks.v1+output": {
       "addedWidgets": {},
       "arguments": {},
       "data": "<div class=\"ansiout\"></div>",
       "datasetInfos": [],
       "metadata": {},
       "removedWidgets": [],
       "type": "html"
      }
     },
     "output_type": "display_data"
    }
   ],
   "source": [
    "# connect to blob storage and download excel file\n",
    "container = \"insurance\"\n",
    "blob_location = \"raw_data/CAInsurances.xlsx\"\n",
    "\n",
    "blob_service_client = BlobServiceClient.from_connection_string(\"DefaultEndpointsProtocol=https;AccountName=cahospitalstorage;AccountKey=w3EYeDH//L+J0uscsn3BYDatbFCcB7CUXK4MfOSNmwc16v3WAQ7EPcw2IpchUrelLVuowjfugmv99e0Os8J5Sw==;EndpointSuffix=core.windows.net\")\n",
    "container_client = blob_service_client.get_container_client(container)\n",
    "blob_data = container_client.get_blob_client(blob_location)\n",
    "\n",
    "with open(\"temp.xlsx\", \"wb\") as temp:\n",
    "  data = blob_data.download_blob()\n",
    "  data.readinto(temp)"
   ]
  },
  {
   "cell_type": "code",
   "execution_count": 0,
   "metadata": {
    "application/vnd.databricks.v1+cell": {
     "inputWidgets": {},
     "nuid": "da4b0d7f-ebb5-4998-9cf9-d7698764d812",
     "showTitle": false,
     "title": ""
    }
   },
   "outputs": [
    {
     "data": {
      "text/html": [
       "<style scoped>\n",
       "  .ansiout {\n",
       "    display: block;\n",
       "    unicode-bidi: embed;\n",
       "    white-space: pre-wrap;\n",
       "    word-wrap: break-word;\n",
       "    word-break: break-all;\n",
       "    font-family: \"Source Code Pro\", \"Menlo\", monospace;;\n",
       "    font-size: 13px;\n",
       "    color: #555;\n",
       "    margin-left: 4px;\n",
       "    line-height: 19px;\n",
       "  }\n",
       "</style>\n",
       "<div class=\"ansiout\"></div>"
      ]
     },
     "metadata": {
      "application/vnd.databricks.v1+output": {
       "addedWidgets": {},
       "arguments": {},
       "data": "<div class=\"ansiout\"></div>",
       "datasetInfos": [],
       "metadata": {},
       "removedWidgets": [],
       "type": "html"
      }
     },
     "output_type": "display_data"
    }
   ],
   "source": [
    "# read csv file\n",
    "columns = ['CompanyName', 'CommonAlias', 'PhoneNumber', 'Website']\n",
    "pdf = pd.read_excel(\"temp.xlsx\", skiprows=[0], names=columns)\n",
    "df = spark.createDataFrame(pdf)"
   ]
  },
  {
   "cell_type": "code",
   "execution_count": 0,
   "metadata": {
    "application/vnd.databricks.v1+cell": {
     "inputWidgets": {},
     "nuid": "3fef41de-c622-4ae8-bf9a-f9cc0f0b0895",
     "showTitle": false,
     "title": ""
    }
   },
   "outputs": [
    {
     "data": {
      "text/html": [
       "<style scoped>\n",
       "  .ansiout {\n",
       "    display: block;\n",
       "    unicode-bidi: embed;\n",
       "    white-space: pre-wrap;\n",
       "    word-wrap: break-word;\n",
       "    word-break: break-all;\n",
       "    font-family: \"Source Code Pro\", \"Menlo\", monospace;;\n",
       "    font-size: 13px;\n",
       "    color: #555;\n",
       "    margin-left: 4px;\n",
       "    line-height: 19px;\n",
       "  }\n",
       "</style>\n",
       "<div class=\"ansiout\"></div>"
      ]
     },
     "metadata": {
      "application/vnd.databricks.v1+output": {
       "addedWidgets": {},
       "arguments": {},
       "data": "<div class=\"ansiout\"></div>",
       "datasetInfos": [],
       "metadata": {},
       "removedWidgets": [],
       "type": "html"
      }
     },
     "output_type": "display_data"
    }
   ],
   "source": [
    "# Export df_final to blob storage\n",
    "output = \"clean_data_insurance\"\n",
    "\n",
    "df.write.option(\"header\", \"true\").mode(\"overwrite\").parquet(output)\n",
    "for file in os.listdir(\"/dbfs/\" + output):\n",
    "  try:\n",
    "    with open(\"/dbfs/%s/%s\" % (output, file), \"rb\") as data:\n",
    "        container_client.upload_blob(name=\"%s/%s\" % (output, file), data=data, overwrite=True)\n",
    "  except Exception as e:\n",
    "    print(e)"
   ]
  },
  {
   "cell_type": "code",
   "execution_count": 0,
   "metadata": {
    "application/vnd.databricks.v1+cell": {
     "inputWidgets": {},
     "nuid": "3ebac06c-1508-49f2-86f5-2c7a46052786",
     "showTitle": false,
     "title": ""
    }
   },
   "outputs": [
    {
     "data": {
      "text/plain": [
       "insurance/clean_data_insurance"
      ]
     },
     "metadata": {
      "application/vnd.databricks.v1+output": {
       "arguments": {},
       "data": "insurance/clean_data_insurance",
       "metadata": {},
       "type": "exit"
      }
     },
     "output_type": "display_data"
    }
   ],
   "source": [
    "dbutils.notebook.exit(\"%s/%s\" % (container, output))"
   ]
  }
 ],
 "metadata": {
  "application/vnd.databricks.v1+notebook": {
   "dashboards": [],
   "language": "python",
   "notebookMetadata": {
    "pythonIndentUnit": 2
   },
   "notebookName": "clean_insurance",
   "notebookOrigID": 3927889456533525,
   "widgets": {}
  },
  "kernelspec": {
   "display_name": "Python 3",
   "language": "python",
   "name": "python3"
  },
  "language_info": {
   "codemirror_mode": {
    "name": "ipython",
    "version": 3
   },
   "file_extension": ".py",
   "mimetype": "text/x-python",
   "name": "python",
   "nbconvert_exporter": "python",
   "pygments_lexer": "ipython3",
   "version": "3.8.5"
  }
 },
 "nbformat": 4,
 "nbformat_minor": 1
}
