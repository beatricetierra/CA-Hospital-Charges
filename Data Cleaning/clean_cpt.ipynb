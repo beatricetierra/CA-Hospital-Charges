{
 "cells": [
  {
   "cell_type": "code",
   "execution_count": 0,
   "metadata": {
    "application/vnd.databricks.v1+cell": {
     "inputWidgets": {},
     "nuid": "e717d677-0f4c-417f-b7fd-753eccf3d6d2",
     "showTitle": false,
     "title": ""
    }
   },
   "outputs": [
    {
     "data": {
      "text/html": [
       "<style scoped>\n",
       "  .ansiout {\n",
       "    display: block;\n",
       "    unicode-bidi: embed;\n",
       "    white-space: pre-wrap;\n",
       "    word-wrap: break-word;\n",
       "    word-break: break-all;\n",
       "    font-family: \"Source Code Pro\", \"Menlo\", monospace;;\n",
       "    font-size: 13px;\n",
       "    color: #555;\n",
       "    margin-left: 4px;\n",
       "    line-height: 19px;\n",
       "  }\n",
       "</style>\n",
       "<div class=\"ansiout\">Python interpreter will be restarted.\n",
       "Collecting azure-storage-blob\n",
       "  Using cached azure_storage_blob-12.8.1-py2.py3-none-any.whl (345 kB)\n",
       "Collecting azure-core&lt;2.0.0,&gt;=1.10.0\n",
       "  Using cached azure_core-1.17.0-py2.py3-none-any.whl (165 kB)\n",
       "Collecting msrest&gt;=0.6.18\n",
       "  Using cached msrest-0.6.21-py2.py3-none-any.whl (85 kB)\n",
       "Requirement already satisfied: cryptography&gt;=2.1.4 in /databricks/python3/lib/python3.8/site-packages (from azure-storage-blob) (3.1.1)\n",
       "Requirement already satisfied: six&gt;=1.11.0 in /databricks/python3/lib/python3.8/site-packages (from azure-core&lt;2.0.0,&gt;=1.10.0-&gt;azure-storage-blob) (1.15.0)\n",
       "Requirement already satisfied: requests&gt;=2.18.4 in /databricks/python3/lib/python3.8/site-packages (from azure-core&lt;2.0.0,&gt;=1.10.0-&gt;azure-storage-blob) (2.24.0)\n",
       "Requirement already satisfied: certifi&gt;=2017.4.17 in /databricks/python3/lib/python3.8/site-packages (from msrest&gt;=0.6.18-&gt;azure-storage-blob) (2021.5.30)\n",
       "Collecting isodate&gt;=0.6.0\n",
       "  Using cached isodate-0.6.0-py2.py3-none-any.whl (45 kB)\n",
       "Collecting requests-oauthlib&gt;=0.5.0\n",
       "  Using cached requests_oauthlib-1.3.0-py2.py3-none-any.whl (23 kB)\n",
       "Requirement already satisfied: cffi!=1.11.3,&gt;=1.8 in /databricks/python3/lib/python3.8/site-packages (from cryptography&gt;=2.1.4-&gt;azure-storage-blob) (1.14.3)\n",
       "Requirement already satisfied: urllib3!=1.25.0,!=1.25.1,&lt;1.26,&gt;=1.21.1 in /databricks/python3/lib/python3.8/site-packages (from requests&gt;=2.18.4-&gt;azure-core&lt;2.0.0,&gt;=1.10.0-&gt;azure-storage-blob) (1.25.11)\n",
       "Requirement already satisfied: idna&lt;3,&gt;=2.5 in /databricks/python3/lib/python3.8/site-packages (from requests&gt;=2.18.4-&gt;azure-core&lt;2.0.0,&gt;=1.10.0-&gt;azure-storage-blob) (2.10)\n",
       "Requirement already satisfied: chardet&lt;4,&gt;=3.0.2 in /databricks/python3/lib/python3.8/site-packages (from requests&gt;=2.18.4-&gt;azure-core&lt;2.0.0,&gt;=1.10.0-&gt;azure-storage-blob) (3.0.4)\n",
       "Collecting oauthlib&gt;=3.0.0\n",
       "  Using cached oauthlib-3.1.1-py2.py3-none-any.whl (146 kB)\n",
       "Requirement already satisfied: pycparser in /databricks/python3/lib/python3.8/site-packages (from cffi!=1.11.3,&gt;=1.8-&gt;cryptography&gt;=2.1.4-&gt;azure-storage-blob) (2.20)\n",
       "Installing collected packages: azure-core, isodate, oauthlib, requests-oauthlib, msrest, azure-storage-blob\n",
       "Successfully installed azure-core-1.17.0 azure-storage-blob-12.8.1 isodate-0.6.0 msrest-0.6.21 oauthlib-3.1.1 requests-oauthlib-1.3.0\n",
       "WARNING: You are using pip version 20.2.4; however, version 21.2.4 is available.\n",
       "You should consider upgrading via the &#39;/local_disk0/.ephemeral_nfs/envs/pythonEnv-4c7a2f95-5aaf-48e8-acbf-e520bf8b0e6f/bin/python -m pip install --upgrade pip&#39; command.\n",
       "Python interpreter will be restarted.\n",
       "</div>"
      ]
     },
     "metadata": {
      "application/vnd.databricks.v1+output": {
       "addedWidgets": {},
       "arguments": {},
       "data": "<div class=\"ansiout\">Python interpreter will be restarted.\nCollecting azure-storage-blob\n  Using cached azure_storage_blob-12.8.1-py2.py3-none-any.whl (345 kB)\nCollecting azure-core&lt;2.0.0,&gt;=1.10.0\n  Using cached azure_core-1.17.0-py2.py3-none-any.whl (165 kB)\nCollecting msrest&gt;=0.6.18\n  Using cached msrest-0.6.21-py2.py3-none-any.whl (85 kB)\nRequirement already satisfied: cryptography&gt;=2.1.4 in /databricks/python3/lib/python3.8/site-packages (from azure-storage-blob) (3.1.1)\nRequirement already satisfied: six&gt;=1.11.0 in /databricks/python3/lib/python3.8/site-packages (from azure-core&lt;2.0.0,&gt;=1.10.0-&gt;azure-storage-blob) (1.15.0)\nRequirement already satisfied: requests&gt;=2.18.4 in /databricks/python3/lib/python3.8/site-packages (from azure-core&lt;2.0.0,&gt;=1.10.0-&gt;azure-storage-blob) (2.24.0)\nRequirement already satisfied: certifi&gt;=2017.4.17 in /databricks/python3/lib/python3.8/site-packages (from msrest&gt;=0.6.18-&gt;azure-storage-blob) (2021.5.30)\nCollecting isodate&gt;=0.6.0\n  Using cached isodate-0.6.0-py2.py3-none-any.whl (45 kB)\nCollecting requests-oauthlib&gt;=0.5.0\n  Using cached requests_oauthlib-1.3.0-py2.py3-none-any.whl (23 kB)\nRequirement already satisfied: cffi!=1.11.3,&gt;=1.8 in /databricks/python3/lib/python3.8/site-packages (from cryptography&gt;=2.1.4-&gt;azure-storage-blob) (1.14.3)\nRequirement already satisfied: urllib3!=1.25.0,!=1.25.1,&lt;1.26,&gt;=1.21.1 in /databricks/python3/lib/python3.8/site-packages (from requests&gt;=2.18.4-&gt;azure-core&lt;2.0.0,&gt;=1.10.0-&gt;azure-storage-blob) (1.25.11)\nRequirement already satisfied: idna&lt;3,&gt;=2.5 in /databricks/python3/lib/python3.8/site-packages (from requests&gt;=2.18.4-&gt;azure-core&lt;2.0.0,&gt;=1.10.0-&gt;azure-storage-blob) (2.10)\nRequirement already satisfied: chardet&lt;4,&gt;=3.0.2 in /databricks/python3/lib/python3.8/site-packages (from requests&gt;=2.18.4-&gt;azure-core&lt;2.0.0,&gt;=1.10.0-&gt;azure-storage-blob) (3.0.4)\nCollecting oauthlib&gt;=3.0.0\n  Using cached oauthlib-3.1.1-py2.py3-none-any.whl (146 kB)\nRequirement already satisfied: pycparser in /databricks/python3/lib/python3.8/site-packages (from cffi!=1.11.3,&gt;=1.8-&gt;cryptography&gt;=2.1.4-&gt;azure-storage-blob) (2.20)\nInstalling collected packages: azure-core, isodate, oauthlib, requests-oauthlib, msrest, azure-storage-blob\nSuccessfully installed azure-core-1.17.0 azure-storage-blob-12.8.1 isodate-0.6.0 msrest-0.6.21 oauthlib-3.1.1 requests-oauthlib-1.3.0\nWARNING: You are using pip version 20.2.4; however, version 21.2.4 is available.\nYou should consider upgrading via the &#39;/local_disk0/.ephemeral_nfs/envs/pythonEnv-4c7a2f95-5aaf-48e8-acbf-e520bf8b0e6f/bin/python -m pip install --upgrade pip&#39; command.\nPython interpreter will be restarted.\n</div>",
       "datasetInfos": [],
       "metadata": {},
       "removedWidgets": [],
       "type": "html"
      }
     },
     "output_type": "display_data"
    }
   ],
   "source": [
    "pip install azure-storage-blob"
   ]
  },
  {
   "cell_type": "code",
   "execution_count": 0,
   "metadata": {
    "application/vnd.databricks.v1+cell": {
     "inputWidgets": {},
     "nuid": "06b6b2f3-ba39-4ed6-8c90-c3ca7ba30788",
     "showTitle": false,
     "title": ""
    }
   },
   "outputs": [
    {
     "data": {
      "text/html": [
       "<style scoped>\n",
       "  .ansiout {\n",
       "    display: block;\n",
       "    unicode-bidi: embed;\n",
       "    white-space: pre-wrap;\n",
       "    word-wrap: break-word;\n",
       "    word-break: break-all;\n",
       "    font-family: \"Source Code Pro\", \"Menlo\", monospace;;\n",
       "    font-size: 13px;\n",
       "    color: #555;\n",
       "    margin-left: 4px;\n",
       "    line-height: 19px;\n",
       "  }\n",
       "</style>\n",
       "<div class=\"ansiout\"></div>"
      ]
     },
     "metadata": {
      "application/vnd.databricks.v1+output": {
       "addedWidgets": {},
       "arguments": {},
       "data": "<div class=\"ansiout\"></div>",
       "datasetInfos": [],
       "metadata": {},
       "removedWidgets": [],
       "type": "html"
      }
     },
     "output_type": "display_data"
    }
   ],
   "source": [
    "from pyspark.sql import SparkSession\n",
    "from azure.storage.blob import BlobServiceClient\n",
    "from pyspark.sql.types import StructField, StructType, StringType\n",
    "from pyspark.sql.functions import length\n",
    "import os\n",
    "import pandas as pd"
   ]
  },
  {
   "cell_type": "code",
   "execution_count": 0,
   "metadata": {
    "application/vnd.databricks.v1+cell": {
     "inputWidgets": {},
     "nuid": "694fc51c-c02d-4426-b2c0-353c5bf87f97",
     "showTitle": false,
     "title": ""
    }
   },
   "outputs": [
    {
     "data": {
      "text/html": [
       "<style scoped>\n",
       "  .ansiout {\n",
       "    display: block;\n",
       "    unicode-bidi: embed;\n",
       "    white-space: pre-wrap;\n",
       "    word-wrap: break-word;\n",
       "    word-break: break-all;\n",
       "    font-family: \"Source Code Pro\", \"Menlo\", monospace;;\n",
       "    font-size: 13px;\n",
       "    color: #555;\n",
       "    margin-left: 4px;\n",
       "    line-height: 19px;\n",
       "  }\n",
       "</style>\n",
       "<div class=\"ansiout\"></div>"
      ]
     },
     "metadata": {
      "application/vnd.databricks.v1+output": {
       "addedWidgets": {},
       "arguments": {},
       "data": "<div class=\"ansiout\"></div>",
       "datasetInfos": [],
       "metadata": {},
       "removedWidgets": [],
       "type": "html"
      }
     },
     "output_type": "display_data"
    }
   ],
   "source": [
    "# Start spark session\n",
    "spark = SparkSession.builder.appName(\"app\").getOrCreate()\n",
    "spark.conf.set(\"fs.azure.account.key.cahospitalstorage.blob.core.windows.net\", \\\n",
    "    \"w3EYeDH//L+J0uscsn3BYDatbFCcB7CUXK4MfOSNmwc16v3WAQ7EPcw2IpchUrelLVuowjfugmv99e0Os8J5Sw==\")"
   ]
  },
  {
   "cell_type": "code",
   "execution_count": 0,
   "metadata": {
    "application/vnd.databricks.v1+cell": {
     "inputWidgets": {},
     "nuid": "a4d1ff05-175f-4f1b-8dd1-d8103e27893f",
     "showTitle": false,
     "title": ""
    }
   },
   "outputs": [
    {
     "data": {
      "text/html": [
       "<style scoped>\n",
       "  .ansiout {\n",
       "    display: block;\n",
       "    unicode-bidi: embed;\n",
       "    white-space: pre-wrap;\n",
       "    word-wrap: break-word;\n",
       "    word-break: break-all;\n",
       "    font-family: \"Source Code Pro\", \"Menlo\", monospace;;\n",
       "    font-size: 13px;\n",
       "    color: #555;\n",
       "    margin-left: 4px;\n",
       "    line-height: 19px;\n",
       "  }\n",
       "</style>\n",
       "<div class=\"ansiout\"></div>"
      ]
     },
     "metadata": {
      "application/vnd.databricks.v1+output": {
       "addedWidgets": {},
       "arguments": {},
       "data": "<div class=\"ansiout\"></div>",
       "datasetInfos": [],
       "metadata": {},
       "removedWidgets": [],
       "type": "html"
      }
     },
     "output_type": "display_data"
    }
   ],
   "source": [
    "# Read input parameters\n",
    "dbutils.widgets.text(\"cpt_folder\", \"\")\n",
    "folder = dbutils.widgets.get(\"cpt_folder\")"
   ]
  },
  {
   "cell_type": "code",
   "execution_count": 0,
   "metadata": {
    "application/vnd.databricks.v1+cell": {
     "inputWidgets": {},
     "nuid": "459d3fad-1f20-4dbf-8069-8ef42d4a6b0c",
     "showTitle": false,
     "title": ""
    }
   },
   "outputs": [
    {
     "data": {
      "text/html": [
       "<style scoped>\n",
       "  .ansiout {\n",
       "    display: block;\n",
       "    unicode-bidi: embed;\n",
       "    white-space: pre-wrap;\n",
       "    word-wrap: break-word;\n",
       "    word-break: break-all;\n",
       "    font-family: \"Source Code Pro\", \"Menlo\", monospace;;\n",
       "    font-size: 13px;\n",
       "    color: #555;\n",
       "    margin-left: 4px;\n",
       "    line-height: 19px;\n",
       "  }\n",
       "</style>\n",
       "<div class=\"ansiout\"></div>"
      ]
     },
     "metadata": {
      "application/vnd.databricks.v1+output": {
       "addedWidgets": {},
       "arguments": {},
       "data": "<div class=\"ansiout\"></div>",
       "datasetInfos": [],
       "metadata": {},
       "removedWidgets": [],
       "type": "html"
      }
     },
     "output_type": "display_data"
    }
   ],
   "source": [
    "# connect to blob storage\n",
    "storage = \"cpt\"\n",
    "blob_service_client = BlobServiceClient.from_connection_string(\"DefaultEndpointsProtocol=https;AccountName=cahospitalstorage;AccountKey=w3EYeDH//L+J0uscsn3BYDatbFCcB7CUXK4MfOSNmwc16v3WAQ7EPcw2IpchUrelLVuowjfugmv99e0Os8J5Sw==;EndpointSuffix=core.windows.net\")\n",
    "container_client = blob_service_client.get_container_client(storage)"
   ]
  },
  {
   "cell_type": "code",
   "execution_count": 0,
   "metadata": {
    "application/vnd.databricks.v1+cell": {
     "inputWidgets": {},
     "nuid": "9f4f9797-94e0-4efa-819d-153fbd275819",
     "showTitle": false,
     "title": ""
    }
   },
   "outputs": [
    {
     "data": {
      "text/html": [
       "<style scoped>\n",
       "  .ansiout {\n",
       "    display: block;\n",
       "    unicode-bidi: embed;\n",
       "    white-space: pre-wrap;\n",
       "    word-wrap: break-word;\n",
       "    word-break: break-all;\n",
       "    font-family: \"Source Code Pro\", \"Menlo\", monospace;;\n",
       "    font-size: 13px;\n",
       "    color: #555;\n",
       "    margin-left: 4px;\n",
       "    line-height: 19px;\n",
       "  }\n",
       "</style>\n",
       "<div class=\"ansiout\"></div>"
      ]
     },
     "metadata": {
      "application/vnd.databricks.v1+output": {
       "addedWidgets": {},
       "arguments": {},
       "data": "<div class=\"ansiout\"></div>",
       "datasetInfos": [],
       "metadata": {},
       "removedWidgets": [],
       "type": "html"
      }
     },
     "output_type": "display_data"
    }
   ],
   "source": [
    "# get target file\n",
    "files = container_client.list_blobs(name_starts_with=\"raw_data/\"+folder)\n",
    "files_rdd = spark.sparkContext.parallelize(files).map(lambda record: record['name'])\n",
    "target_file = files_rdd.filter(lambda file: 'PPRRVU' in file and '.txt' in file).max()"
   ]
  },
  {
   "cell_type": "code",
   "execution_count": 0,
   "metadata": {
    "application/vnd.databricks.v1+cell": {
     "inputWidgets": {},
     "nuid": "57a29593-487d-4037-a08d-0329658e873d",
     "showTitle": false,
     "title": ""
    }
   },
   "outputs": [
    {
     "data": {
      "text/html": [
       "<style scoped>\n",
       "  .ansiout {\n",
       "    display: block;\n",
       "    unicode-bidi: embed;\n",
       "    white-space: pre-wrap;\n",
       "    word-wrap: break-word;\n",
       "    word-break: break-all;\n",
       "    font-family: \"Source Code Pro\", \"Menlo\", monospace;;\n",
       "    font-size: 13px;\n",
       "    color: #555;\n",
       "    margin-left: 4px;\n",
       "    line-height: 19px;\n",
       "  }\n",
       "</style>\n",
       "<div class=\"ansiout\"></div>"
      ]
     },
     "metadata": {
      "application/vnd.databricks.v1+output": {
       "addedWidgets": {},
       "arguments": {},
       "data": "<div class=\"ansiout\"></div>",
       "datasetInfos": [],
       "metadata": {},
       "removedWidgets": [],
       "type": "html"
      }
     },
     "output_type": "display_data"
    }
   ],
   "source": [
    "# Read text file \n",
    "schema = StructType([\n",
    "    StructField('CPT', StringType(), True),\n",
    "    StructField('Description', StringType(), True)\n",
    "])\n",
    "\n",
    "blob_data = container_client.get_blob_client(target_file)\n",
    "with open(\"temp.txt\", \"wb\") as temp:\n",
    "  data = blob_data.download_blob()\n",
    "  data.readinto(temp)\n",
    "pdf = pd.read_csv(\"temp.txt\", delimiter= r\"\\s\\s\", usecols=[0,1], names = ['CPT', 'Description'], engine='python')\n",
    "df = spark.createDataFrame(pdf, schema=schema)\n",
    "df_dropna = df.filter(df.CPT.rlike(\"\\d{3}\"))\n",
    "df_final = df_dropna.filter(length('CPT') <= 7)"
   ]
  },
  {
   "cell_type": "code",
   "execution_count": 0,
   "metadata": {
    "application/vnd.databricks.v1+cell": {
     "inputWidgets": {},
     "nuid": "7668d412-86ff-445f-9f9c-ea308a419cf9",
     "showTitle": false,
     "title": ""
    }
   },
   "outputs": [
    {
     "data": {
      "text/html": [
       "<style scoped>\n",
       "  .ansiout {\n",
       "    display: block;\n",
       "    unicode-bidi: embed;\n",
       "    white-space: pre-wrap;\n",
       "    word-wrap: break-word;\n",
       "    word-break: break-all;\n",
       "    font-family: \"Source Code Pro\", \"Menlo\", monospace;;\n",
       "    font-size: 13px;\n",
       "    color: #555;\n",
       "    margin-left: 4px;\n",
       "    line-height: 19px;\n",
       "  }\n",
       "</style>\n",
       "<div class=\"ansiout\"></div>"
      ]
     },
     "metadata": {
      "application/vnd.databricks.v1+output": {
       "addedWidgets": {},
       "arguments": {},
       "data": "<div class=\"ansiout\"></div>",
       "datasetInfos": [],
       "metadata": {},
       "removedWidgets": [],
       "type": "html"
      }
     },
     "output_type": "display_data"
    }
   ],
   "source": [
    "# Export df_final to blob storage\n",
    "output = \"clean_data_cpt\"\n",
    "df_final.write.option(\"header\", \"true\").mode(\"overwrite\").parquet(output)\n",
    "for file in os.listdir(\"/dbfs/\" + output):\n",
    "  try:\n",
    "    with open(\"/dbfs/%s/%s\" % (output, file), \"rb\") as data:\n",
    "        container_client.upload_blob(name=\"%s/%s/%s\" % (output, folder, file), data=data, overwrite=True)\n",
    "  except Exception as e:\n",
    "    print(e)"
   ]
  },
  {
   "cell_type": "code",
   "execution_count": 0,
   "metadata": {
    "application/vnd.databricks.v1+cell": {
     "inputWidgets": {},
     "nuid": "b759b92b-c80b-4499-8d51-b507a326e41a",
     "showTitle": false,
     "title": ""
    }
   },
   "outputs": [],
   "source": [
    "dbutils.notebook.exit(\"%s/%s/%s\" % (storage, output, folder))"
   ]
  }
 ],
 "metadata": {
  "application/vnd.databricks.v1+notebook": {
   "dashboards": [],
   "language": "python",
   "notebookMetadata": {
    "pythonIndentUnit": 2
   },
   "notebookName": "clean_cpt",
   "notebookOrigID": 1310740326171902,
   "widgets": {
    "cpt_folder": {
     "currentValue": "",
     "nuid": "72639a2b-7f3b-46b9-9621-975b9c00e31e",
     "widgetInfo": {
      "defaultValue": "",
      "label": null,
      "name": "cpt_folder",
      "options": {
       "validationRegex": null,
       "widgetType": "text"
      },
      "widgetType": "text"
     }
    }
   }
  },
  "kernelspec": {
   "display_name": "Python 3",
   "language": "python",
   "name": "python3"
  },
  "language_info": {
   "codemirror_mode": {
    "name": "ipython",
    "version": 3
   },
   "file_extension": ".py",
   "mimetype": "text/x-python",
   "name": "python",
   "nbconvert_exporter": "python",
   "pygments_lexer": "ipython3",
   "version": "3.8.5"
  }
 },
 "nbformat": 4,
 "nbformat_minor": 1
}
