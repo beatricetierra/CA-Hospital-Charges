{
 "cells": [
  {
   "cell_type": "code",
   "execution_count": 1,
   "metadata": {},
   "outputs": [],
   "source": [
    "import re\n",
    "import pandas as pd\n",
    "import csv\n",
    "import requests\n",
    "import time\n",
    "from selenium import webdriver\n",
    "from selenium.webdriver.common.keys import Keys\n",
    "from http_request_randomizer.requests.proxy.requestProxy import RequestProxy"
   ]
  },
  {
   "cell_type": "code",
   "execution_count": 2,
   "metadata": {},
   "outputs": [],
   "source": [
    "# 1. Get zip codes\n",
    "csv_file = r'C:\\Users\\Beatrice Tierra\\Documents\\Springboard\\US-Hospital-Charges\\Datasets\\Addresses.csv'\n",
    "address_df = pd.read_csv(csv_file)\n",
    "zipcodes = [re.search('CA \\d\\d\\d\\d\\d', add).group(0).split(' ')[1] for add in address_df['Address']]"
   ]
  },
  {
   "cell_type": "code",
   "execution_count": 3,
   "metadata": {},
   "outputs": [
    {
     "name": "stdout",
     "output_type": "stream",
     "text": [
      "['95901', '93301', '95422', '91206', '95490', '95240', '93654', '93065', '95370', '94574', '95482', '94590', '90033', '93230', '92801', '94501', '91801', '94705', '94609', '92120', '91942', '93534', '92324', '95401', '91724', '91107', '92128', '93001', '93309', '93308', '93301', '92411', '96130', '90026', '92311', '96150', '92315', '90640', '91770', '90015', '94114', '94110', '91710', '91768', '90704', '90048', '90301', '94618', '94158', '90027', '92868', '94133', '91710', '91010', '93611', '90650', '92627', '90255', '92411', '93940', '93003', '93721', '94553', '92882', '95203', '90505', '93215', '92262', '92395', '95336', '95350', '95065', '90806', '90023', '96122', '94546', '92270', '94040', '92243', '91741', '91790', '95382', '91436', '93309', '95926', '96097', '92780', '92708', '93401', '93710', '91754', '93930', '91204', '91740', '93111', '93308', '90017', '95124', '91733', '95023', '95448', '92866', '92252', '94602', '92663', '92618', '91105', '94112', '95338', '92201', '94520', '94520', '94598', '91335', '94531', '91706', '90242', '92335', '94538', '93720', '90027', '95356', '92555', '94611', '92806', '91402', '94063', '92505', '95661', '95823', '92123', '94115', '95119', '94577', '94903', '95051', '95403', '94080', '95823', '94080', '95688', '94596', '90034', '91367', '94612', '94589', '94080', '93291', '90033', '93240', '91706', '90638', '90056', '91764', '91730', '92571', '92104', '94577', '90247', '92683', '90502', '91342', '90242', '90033', '94116', '90712', '94143', '92373', '92354', '92354', '92563', '93436', '90806', '90720', '90023', '91360', '94304', '93637', '93546', '93454', '94904', '90292', '95249', '95682', '96028', '90247', '93635', '95355', '93301', '96067', '95340', '96001', '94010', '91402', '92691', '96101', '91016', '91763', '91754', '91364', '92352', '93901', '94533', '93514', '91325', '94945', '95361', '93023', '92708', '95966', '91352', '93551', '92025', '91950', '92503', '96001', '94954', '90241', '92227', '92870', '91767', '90602', '94558', '90732', '90503', '90404', '91505', '91356', '94558', '92123', '92373', '95540', '95116', '90095', '92555', '90095', '92653', '93901', '91786', '91773', '91776', '95231', '93720', '94578', '94583', '93105', '90404', '95405', '93463', '92037', '92024', '92037', '92103', '96020', '94062', '94015', '91911', '92118', '91942', '92123', '92123', '96001', '91403', '95817', '95945', '93257', '95823', '93405', '95476', '90028', '92595', '93720', '92404', '96080', '90262', '94109', '93010', '93030', '95501', '92868', '95204', '95204', '94104', '92307', '90813', '94117', '94545', '94305', '95355', '93422', '93210', '90650', '94558', '92369', '95642', '95602', '95826', '95531', '95616', '94509', '95453', '95065', '95816', '95661', '95405', '94589', '95991', '95376', '96161', '92592', '90505', '94538', '93465', '92103', '94143', '95616', '92617', '91208', '90033', '93636', '91405', '94588', '93003', '92270', '94538', '91307', '90603', '95695', '94110']\n"
     ]
    }
   ],
   "source": [
    "print(zipcodes)"
   ]
  },
  {
   "cell_type": "code",
   "execution_count": 4,
   "metadata": {},
   "outputs": [
    {
     "name": "stderr",
     "output_type": "stream",
     "text": [
      "2021-05-17 17:23:20,654 http_request_randomizer.requests.useragent.userAgent INFO     Using local file for user agents: C:\\Users\\Beatrice Tierra\\anaconda3\\lib\\site-packages\\http_request_randomizer\\requests\\proxy\\../data/user_agents.txt\n",
      "2021-05-17 17:23:20,656 root   DEBUG    === Initialized Proxy Parsers ===\n",
      "2021-05-17 17:23:20,657 root   DEBUG    \t FreeProxy parser of 'http://free-proxy-list.net' with required bandwidth: '150' KBs\n",
      "2021-05-17 17:23:20,658 root   DEBUG    \t PremProxy parser of 'https://premproxy.com/list/' with required bandwidth: '150' KBs\n",
      "2021-05-17 17:23:20,659 root   DEBUG    \t SslProxy parser of 'https://www.sslproxies.org' with required bandwidth: '150' KBs\n",
      "2021-05-17 17:23:20,660 root   DEBUG    =================================\n",
      "2021-05-17 17:23:25,505 root   DEBUG    Added 300 proxies from FreeProxy\n",
      "2021-05-17 17:23:31,189 http_request_randomizer.requests.parsers.PremProxyParser WARNING  Proxy Provider url failed: https://premproxy.com/list/\n",
      "2021-05-17 17:23:31,191 http_request_randomizer.requests.parsers.PremProxyParser DEBUG    Pages: set()\n",
      "2021-05-17 17:23:36,877 http_request_randomizer.requests.parsers.PremProxyParser WARNING  Proxy Provider url failed: https://premproxy.com/list/\n",
      "2021-05-17 17:23:36,879 root   DEBUG    Added 0 proxies from PremProxy\n",
      "2021-05-17 17:23:37,151 root   DEBUG    Added 100 proxies from SslProxy\n",
      "2021-05-17 17:23:37,152 root   DEBUG    Total proxies = 400\n",
      "2021-05-17 17:23:37,153 root   DEBUG    Filtered proxies = 400\n"
     ]
    }
   ],
   "source": [
    "# 2. Get proxy list\n",
    "req_proxy = RequestProxy() #you may get different number of proxy when  you run this at each time\n",
    "proxies = req_proxy.get_proxy_list() #this will create proxy list"
   ]
  },
  {
   "cell_type": "code",
   "execution_count": 8,
   "metadata": {},
   "outputs": [
    {
     "name": "stderr",
     "output_type": "stream",
     "text": [
      "2021-05-17 17:29:25,677 selenium.webdriver.remote.remote_connection DEBUG    POST http://127.0.0.1:63435/session {\"capabilities\": {\"firstMatch\": [{}], \"alwaysMatch\": {\"browserName\": \"chrome\", \"platformName\": \"any\", \"proxy\": {\"httpProxy\": \"151.232.72.21:80\", \"ftpProxy\": \"151.232.72.21:80\", \"sslProxy\": \"151.232.72.21:80\", \"proxyType\": \"manual\"}, \"acceptInsecureCerts\": true, \"goog:chromeOptions\": {\"extensions\": [], \"args\": []}}}, \"desiredCapabilities\": {\"browserName\": \"chrome\", \"version\": \"\", \"platform\": \"ANY\", \"proxy\": {\"httpProxy\": \"151.232.72.21:80\", \"ftpProxy\": \"151.232.72.21:80\", \"sslProxy\": \"151.232.72.21:80\", \"proxyType\": \"MANUAL\"}, \"acceptSslCerts\": true, \"goog:chromeOptions\": {\"extensions\": [], \"args\": []}}}\n",
      "2021-05-17 17:29:26,261 selenium.webdriver.remote.remote_connection DEBUG    Finished Request\n",
      "2021-05-17 17:29:36,265 selenium.webdriver.remote.remote_connection DEBUG    POST http://127.0.0.1:63435/session/de297e162b23cf4e6f9e85eed050d858/url {\"url\": \"https://www.fairhealthconsumer.org/medical/zip\"}\n",
      "2021-05-17 17:29:36,897 selenium.webdriver.remote.remote_connection DEBUG    Finished Request\n",
      "2021-05-17 17:29:46,909 selenium.webdriver.remote.remote_connection DEBUG    POST http://127.0.0.1:63435/session/de297e162b23cf4e6f9e85eed050d858/element {\"using\": \"css selector\", \"value\": \"input[placeholder='Zip Code or City, State (e.g, 12345 or New York, NY)']\"}\n",
      "2021-05-17 17:29:46,929 selenium.webdriver.remote.remote_connection DEBUG    Finished Request\n"
     ]
    },
    {
     "ename": "NoSuchElementException",
     "evalue": "Message: no such element: Unable to locate element: {\"method\":\"css selector\",\"selector\":\"input[placeholder='Zip Code or City, State (e.g, 12345 or New York, NY)']\"}\n  (Session info: chrome=90.0.4430.212)\n",
     "output_type": "error",
     "traceback": [
      "\u001b[1;31m---------------------------------------------------------------------------\u001b[0m",
      "\u001b[1;31mNoSuchElementException\u001b[0m                    Traceback (most recent call last)",
      "\u001b[1;32m<ipython-input-8-8fcfd1350772>\u001b[0m in \u001b[0;36m<module>\u001b[1;34m\u001b[0m\n\u001b[0;32m     14\u001b[0m \u001b[1;33m\u001b[0m\u001b[0m\n\u001b[0;32m     15\u001b[0m             \u001b[0mtime\u001b[0m\u001b[1;33m.\u001b[0m\u001b[0msleep\u001b[0m\u001b[1;33m(\u001b[0m\u001b[1;36m10\u001b[0m\u001b[1;33m)\u001b[0m\u001b[1;33m\u001b[0m\u001b[1;33m\u001b[0m\u001b[0m\n\u001b[1;32m---> 16\u001b[1;33m             \u001b[0mlocation_search\u001b[0m \u001b[1;33m=\u001b[0m \u001b[0md\u001b[0m\u001b[1;33m.\u001b[0m\u001b[0mfind_element_by_css_selector\u001b[0m\u001b[1;33m(\u001b[0m\u001b[1;34m\"input[placeholder='Zip Code or City, State (e.g, 12345 or New York, NY)']\"\u001b[0m\u001b[1;33m)\u001b[0m\u001b[1;33m\u001b[0m\u001b[1;33m\u001b[0m\u001b[0m\n\u001b[0m\u001b[0;32m     17\u001b[0m             \u001b[0mlocation_search\u001b[0m\u001b[1;33m.\u001b[0m\u001b[0msend_keys\u001b[0m\u001b[1;33m(\u001b[0m\u001b[0mzip\u001b[0m\u001b[1;33m)\u001b[0m\u001b[1;33m\u001b[0m\u001b[1;33m\u001b[0m\u001b[0m\n\u001b[0;32m     18\u001b[0m             \u001b[0mlocation_search\u001b[0m\u001b[1;33m.\u001b[0m\u001b[0msend_keys\u001b[0m\u001b[1;33m(\u001b[0m\u001b[0mKeys\u001b[0m\u001b[1;33m.\u001b[0m\u001b[0mENTER\u001b[0m\u001b[1;33m)\u001b[0m\u001b[1;33m\u001b[0m\u001b[1;33m\u001b[0m\u001b[0m\n",
      "\u001b[1;32m~\\anaconda3\\lib\\site-packages\\selenium\\webdriver\\remote\\webdriver.py\u001b[0m in \u001b[0;36mfind_element_by_css_selector\u001b[1;34m(self, css_selector)\u001b[0m\n\u001b[0;32m    596\u001b[0m             \u001b[0melement\u001b[0m \u001b[1;33m=\u001b[0m \u001b[0mdriver\u001b[0m\u001b[1;33m.\u001b[0m\u001b[0mfind_element_by_css_selector\u001b[0m\u001b[1;33m(\u001b[0m\u001b[1;34m'#foo'\u001b[0m\u001b[1;33m)\u001b[0m\u001b[1;33m\u001b[0m\u001b[1;33m\u001b[0m\u001b[0m\n\u001b[0;32m    597\u001b[0m         \"\"\"\n\u001b[1;32m--> 598\u001b[1;33m         \u001b[1;32mreturn\u001b[0m \u001b[0mself\u001b[0m\u001b[1;33m.\u001b[0m\u001b[0mfind_element\u001b[0m\u001b[1;33m(\u001b[0m\u001b[0mby\u001b[0m\u001b[1;33m=\u001b[0m\u001b[0mBy\u001b[0m\u001b[1;33m.\u001b[0m\u001b[0mCSS_SELECTOR\u001b[0m\u001b[1;33m,\u001b[0m \u001b[0mvalue\u001b[0m\u001b[1;33m=\u001b[0m\u001b[0mcss_selector\u001b[0m\u001b[1;33m)\u001b[0m\u001b[1;33m\u001b[0m\u001b[1;33m\u001b[0m\u001b[0m\n\u001b[0m\u001b[0;32m    599\u001b[0m \u001b[1;33m\u001b[0m\u001b[0m\n\u001b[0;32m    600\u001b[0m     \u001b[1;32mdef\u001b[0m \u001b[0mfind_elements_by_css_selector\u001b[0m\u001b[1;33m(\u001b[0m\u001b[0mself\u001b[0m\u001b[1;33m,\u001b[0m \u001b[0mcss_selector\u001b[0m\u001b[1;33m)\u001b[0m\u001b[1;33m:\u001b[0m\u001b[1;33m\u001b[0m\u001b[1;33m\u001b[0m\u001b[0m\n",
      "\u001b[1;32m~\\anaconda3\\lib\\site-packages\\selenium\\webdriver\\remote\\webdriver.py\u001b[0m in \u001b[0;36mfind_element\u001b[1;34m(self, by, value)\u001b[0m\n\u001b[0;32m    974\u001b[0m                 \u001b[0mby\u001b[0m \u001b[1;33m=\u001b[0m \u001b[0mBy\u001b[0m\u001b[1;33m.\u001b[0m\u001b[0mCSS_SELECTOR\u001b[0m\u001b[1;33m\u001b[0m\u001b[1;33m\u001b[0m\u001b[0m\n\u001b[0;32m    975\u001b[0m                 \u001b[0mvalue\u001b[0m \u001b[1;33m=\u001b[0m \u001b[1;34m'[name=\"%s\"]'\u001b[0m \u001b[1;33m%\u001b[0m \u001b[0mvalue\u001b[0m\u001b[1;33m\u001b[0m\u001b[1;33m\u001b[0m\u001b[0m\n\u001b[1;32m--> 976\u001b[1;33m         return self.execute(Command.FIND_ELEMENT, {\n\u001b[0m\u001b[0;32m    977\u001b[0m             \u001b[1;34m'using'\u001b[0m\u001b[1;33m:\u001b[0m \u001b[0mby\u001b[0m\u001b[1;33m,\u001b[0m\u001b[1;33m\u001b[0m\u001b[1;33m\u001b[0m\u001b[0m\n\u001b[0;32m    978\u001b[0m             'value': value})['value']\n",
      "\u001b[1;32m~\\anaconda3\\lib\\site-packages\\selenium\\webdriver\\remote\\webdriver.py\u001b[0m in \u001b[0;36mexecute\u001b[1;34m(self, driver_command, params)\u001b[0m\n\u001b[0;32m    319\u001b[0m         \u001b[0mresponse\u001b[0m \u001b[1;33m=\u001b[0m \u001b[0mself\u001b[0m\u001b[1;33m.\u001b[0m\u001b[0mcommand_executor\u001b[0m\u001b[1;33m.\u001b[0m\u001b[0mexecute\u001b[0m\u001b[1;33m(\u001b[0m\u001b[0mdriver_command\u001b[0m\u001b[1;33m,\u001b[0m \u001b[0mparams\u001b[0m\u001b[1;33m)\u001b[0m\u001b[1;33m\u001b[0m\u001b[1;33m\u001b[0m\u001b[0m\n\u001b[0;32m    320\u001b[0m         \u001b[1;32mif\u001b[0m \u001b[0mresponse\u001b[0m\u001b[1;33m:\u001b[0m\u001b[1;33m\u001b[0m\u001b[1;33m\u001b[0m\u001b[0m\n\u001b[1;32m--> 321\u001b[1;33m             \u001b[0mself\u001b[0m\u001b[1;33m.\u001b[0m\u001b[0merror_handler\u001b[0m\u001b[1;33m.\u001b[0m\u001b[0mcheck_response\u001b[0m\u001b[1;33m(\u001b[0m\u001b[0mresponse\u001b[0m\u001b[1;33m)\u001b[0m\u001b[1;33m\u001b[0m\u001b[1;33m\u001b[0m\u001b[0m\n\u001b[0m\u001b[0;32m    322\u001b[0m             response['value'] = self._unwrap_value(\n\u001b[0;32m    323\u001b[0m                 response.get('value', None))\n",
      "\u001b[1;32m~\\anaconda3\\lib\\site-packages\\selenium\\webdriver\\remote\\errorhandler.py\u001b[0m in \u001b[0;36mcheck_response\u001b[1;34m(self, response)\u001b[0m\n\u001b[0;32m    240\u001b[0m                 \u001b[0malert_text\u001b[0m \u001b[1;33m=\u001b[0m \u001b[0mvalue\u001b[0m\u001b[1;33m[\u001b[0m\u001b[1;34m'alert'\u001b[0m\u001b[1;33m]\u001b[0m\u001b[1;33m.\u001b[0m\u001b[0mget\u001b[0m\u001b[1;33m(\u001b[0m\u001b[1;34m'text'\u001b[0m\u001b[1;33m)\u001b[0m\u001b[1;33m\u001b[0m\u001b[1;33m\u001b[0m\u001b[0m\n\u001b[0;32m    241\u001b[0m             \u001b[1;32mraise\u001b[0m \u001b[0mexception_class\u001b[0m\u001b[1;33m(\u001b[0m\u001b[0mmessage\u001b[0m\u001b[1;33m,\u001b[0m \u001b[0mscreen\u001b[0m\u001b[1;33m,\u001b[0m \u001b[0mstacktrace\u001b[0m\u001b[1;33m,\u001b[0m \u001b[0malert_text\u001b[0m\u001b[1;33m)\u001b[0m\u001b[1;33m\u001b[0m\u001b[1;33m\u001b[0m\u001b[0m\n\u001b[1;32m--> 242\u001b[1;33m         \u001b[1;32mraise\u001b[0m \u001b[0mexception_class\u001b[0m\u001b[1;33m(\u001b[0m\u001b[0mmessage\u001b[0m\u001b[1;33m,\u001b[0m \u001b[0mscreen\u001b[0m\u001b[1;33m,\u001b[0m \u001b[0mstacktrace\u001b[0m\u001b[1;33m)\u001b[0m\u001b[1;33m\u001b[0m\u001b[1;33m\u001b[0m\u001b[0m\n\u001b[0m\u001b[0;32m    243\u001b[0m \u001b[1;33m\u001b[0m\u001b[0m\n\u001b[0;32m    244\u001b[0m     \u001b[1;32mdef\u001b[0m \u001b[0m_value_or_default\u001b[0m\u001b[1;33m(\u001b[0m\u001b[0mself\u001b[0m\u001b[1;33m,\u001b[0m \u001b[0mobj\u001b[0m\u001b[1;33m,\u001b[0m \u001b[0mkey\u001b[0m\u001b[1;33m,\u001b[0m \u001b[0mdefault\u001b[0m\u001b[1;33m)\u001b[0m\u001b[1;33m:\u001b[0m\u001b[1;33m\u001b[0m\u001b[1;33m\u001b[0m\u001b[0m\n",
      "\u001b[1;31mNoSuchElementException\u001b[0m: Message: no such element: Unable to locate element: {\"method\":\"css selector\",\"selector\":\"input[placeholder='Zip Code or City, State (e.g, 12345 or New York, NY)']\"}\n  (Session info: chrome=90.0.4430.212)\n"
     ]
    }
   ],
   "source": [
    "# 3. Get cost after insurance \n",
    "codes = ['99282', '99283', '99284', '99285']\n",
    "with open('CoverageCost.csv', 'w', newline='') as file:\n",
    "    writer = csv.writer(file)\n",
    "    writer.writerow(['CPT Code', 'Zip', 'In-Network', 'Out-Network'])\n",
    "    for i, code in enumerate(codes):\n",
    "        PROXY = proxies[i].get_address()\n",
    "        for zip in zipcodes:\n",
    "            webdriver.DesiredCapabilities.CHROME['proxy']={\"httpProxy\":PROXY,\"ftpProxy\":PROXY,\"sslProxy\":PROXY,\"proxyType\":\"MANUAL\",}\n",
    "            webdriver.DesiredCapabilities.CHROME['acceptSslCerts']=True\n",
    "            d = webdriver.Chrome(r'C:\\Users\\Beatrice Tierra\\Downloads\\chromedriver.exe')\n",
    "            time.sleep(10)\n",
    "            d.get('https://www.fairhealthconsumer.org/medical/zip')\n",
    "            \n",
    "            time.sleep(10)\n",
    "            location_search = d.find_element_by_css_selector(\"input[placeholder='Zip Code or City, State (e.g, 12345 or New York, NY)']\")\n",
    "            location_search.send_keys(zip)\n",
    "            location_search.send_keys(Keys.ENTER)\n",
    "\n",
    "            time.sleep(10)\n",
    "            d.find_element_by_xpath(\"//a[@href='/medical/select-medical-totalcost']\").click()\n",
    "\n",
    "            time.sleep(10)\n",
    "            cpt_search = d.find_element_by_css_selector(\"input[placeholder='Enter a CPT Code or Keyword']\")\n",
    "            cpt_search.send_keys('99282')\n",
    "            cpt_search.send_keys(Keys.ENTER)\n",
    "\n",
    "            time.sleep(10)\n",
    "            d.find_element_by_css_selector('[class=\"button agree\"]').click()\n",
    "\n",
    "            time.sleep(10)\n",
    "            button = d.find_element_by_css_selector(\"input[type='radio'][value='99282']\")\n",
    "            d.execute_script(\"arguments[0].click();\", button)\n",
    "\n",
    "            time.sleep(10)\n",
    "            d.find_element_by_css_selector('[class=\"inline-cost-div arrow-btn\"]').click()\n",
    "\n",
    "            time.sleep(10)\n",
    "            out_net = d.find_element_by_css_selector('[class=\"circle out-net-summary\"]').text\n",
    "            in_net = d.find_element_by_css_selector('[class=\"circle in-net-summary\"]').text\n",
    "\n",
    "            writer.writerow([code, zip, in_net, out_net])\n",
    "            d.close()"
   ]
  },
  {
   "cell_type": "code",
   "execution_count": null,
   "metadata": {},
   "outputs": [],
   "source": []
  }
 ],
 "metadata": {
  "kernelspec": {
   "display_name": "Python 3",
   "language": "python",
   "name": "python3"
  },
  "language_info": {
   "codemirror_mode": {
    "name": "ipython",
    "version": 3
   },
   "file_extension": ".py",
   "mimetype": "text/x-python",
   "name": "python",
   "nbconvert_exporter": "python",
   "pygments_lexer": "ipython3",
   "version": "3.8.5"
  }
 },
 "nbformat": 4,
 "nbformat_minor": 4
}
